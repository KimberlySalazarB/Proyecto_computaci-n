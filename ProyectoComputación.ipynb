{
  "cells": [
    {
      "cell_type": "markdown",
      "metadata": {
        "id": "bIEFZ_pLos-v"
      },
      "source": [
        "# Algoritmos de clustering\n",
        "\n"
      ]
    },
    {
      "cell_type": "markdown",
      "metadata": {
        "id": "R843ruXOYSFG"
      },
      "source": [
        "#**Datos nutricionales del menú de Burger King**\n",
        "Este conjunto de datos es una recopilación completa de información nutricional de los principales elementos del menú que ofrece Burger King. El conjunto de datos incluye información sobre la cantidad de calorías, grasas totales, grasas saturadas, grasas trans, colesterol, sodio, carbohidratos totales y proteínas que se encuentran en cada elemento del menú.\n",
        "\n",
        "Esta información permite a las personas tomar decisiones informadas sobre su ingesta dietética y les ayuda a gestionar mejor su salud y bienestar.\n",
        "\n",
        "https://www.kaggle.com/datasets/mattop/burger-king-menu-nutrition-data/data"
      ]
    },
    {
      "cell_type": "code",
      "execution_count": 1,
      "metadata": {
        "id": "EWEkjIVN3tjR"
      },
      "outputs": [],
      "source": [
        "import pandas as pd\n",
        "import numpy as np\n",
        "from sklearn.metrics import silhouette_score\n",
        "import matplotlib.pyplot as plt\n",
        "\n",
        "# Cargar datos\n",
        "data = pd.read_csv('/content/burger-king-menu.csv')\n",
        "\n"
      ]
    },
    {
      "cell_type": "code",
      "execution_count": 2,
      "metadata": {
        "colab": {
          "base_uri": "https://localhost:8080/",
          "height": 840
        },
        "id": "20wuijlw_o_d",
        "outputId": "b56f364b-c08e-45a8-8e4f-c6dbac61a65a"
      },
      "outputs": [
        {
          "data": {
            "application/vnd.google.colaboratory.intrinsic+json": {
              "summary": "{\n  \"name\": \"data\",\n  \"rows\": 77,\n  \"fields\": [\n    {\n      \"column\": \"Item\",\n      \"properties\": {\n        \"dtype\": \"string\",\n        \"num_unique_values\": 73,\n        \"samples\": [\n          \"Double Whopper\\u00ae Sandwich with Cheese\",\n          \"American Cheese (slice)\",\n          \"Double Cheeseburger\"\n        ],\n        \"semantic_type\": \"\",\n        \"description\": \"\"\n      }\n    },\n    {\n      \"column\": \"Category\",\n      \"properties\": {\n        \"dtype\": \"category\",\n        \"num_unique_values\": 3,\n        \"samples\": [\n          \"Burgers\",\n          \"Chicken\",\n          \"Breakfast\"\n        ],\n        \"semantic_type\": \"\",\n        \"description\": \"\"\n      }\n    },\n    {\n      \"column\": \"Calories\",\n      \"properties\": {\n        \"dtype\": \"number\",\n        \"std\": 307.6126848973794,\n        \"min\": 10.0,\n        \"max\": 1220.0,\n        \"num_unique_values\": 50,\n        \"samples\": [\n          630.0,\n          250.0,\n          340.0\n        ],\n        \"semantic_type\": \"\",\n        \"description\": \"\"\n      }\n    },\n    {\n      \"column\": \"Fat Calories\",\n      \"properties\": {\n        \"dtype\": \"number\",\n        \"std\": 184.3937620063351,\n        \"min\": 0.0,\n        \"max\": 750.0,\n        \"num_unique_values\": 46,\n        \"samples\": [\n          390.0,\n          150.0,\n          240.0\n        ],\n        \"semantic_type\": \"\",\n        \"description\": \"\"\n      }\n    },\n    {\n      \"column\": \"Fat (g)\",\n      \"properties\": {\n        \"dtype\": \"number\",\n        \"std\": 20.535966149009745,\n        \"min\": 0.0,\n        \"max\": 84.0,\n        \"num_unique_values\": 45,\n        \"samples\": [\n          44.0,\n          11.0,\n          27.0\n        ],\n        \"semantic_type\": \"\",\n        \"description\": \"\"\n      }\n    },\n    {\n      \"column\": \"Saturated Fat (g)\",\n      \"properties\": {\n        \"dtype\": \"number\",\n        \"std\": 8.118430884557744,\n        \"min\": 0.0,\n        \"max\": 33.0,\n        \"num_unique_values\": 29,\n        \"samples\": [\n          0.5,\n          9.0,\n          11.0\n        ],\n        \"semantic_type\": \"\",\n        \"description\": \"\"\n      }\n    },\n    {\n      \"column\": \"Trans Fat (g)\",\n      \"properties\": {\n        \"dtype\": \"number\",\n        \"std\": 1.1286821718163518,\n        \"min\": 0.0,\n        \"max\": 4.5,\n        \"num_unique_values\": 9,\n        \"samples\": [\n          0.0,\n          2.0,\n          0.5\n        ],\n        \"semantic_type\": \"\",\n        \"description\": \"\"\n      }\n    },\n    {\n      \"column\": \"Cholesterol (mg)\",\n      \"properties\": {\n        \"dtype\": \"number\",\n        \"std\": 97.95865882097459,\n        \"min\": 0.0,\n        \"max\": 390.0,\n        \"num_unique_values\": 39,\n        \"samples\": [\n          150.0,\n          380.0,\n          195.0\n        ],\n        \"semantic_type\": \"\",\n        \"description\": \"\"\n      }\n    },\n    {\n      \"column\": \"Sodium (mg)\",\n      \"properties\": {\n        \"dtype\": \"number\",\n        \"std\": 613.4264026511926,\n        \"min\": 0.0,\n        \"max\": 2840.0,\n        \"num_unique_values\": 60,\n        \"samples\": [\n          980.0,\n          1120.0,\n          1030.0\n        ],\n        \"semantic_type\": \"\",\n        \"description\": \"\"\n      }\n    },\n    {\n      \"column\": \"Total Carb (g)\",\n      \"properties\": {\n        \"dtype\": \"number\",\n        \"std\": 20.716588365192347,\n        \"min\": 1.0,\n        \"max\": 110.0,\n        \"num_unique_values\": 36,\n        \"samples\": [\n          8.0,\n          11.0,\n          110.0\n        ],\n        \"semantic_type\": \"\",\n        \"description\": \"\"\n      }\n    },\n    {\n      \"column\": \"Dietary Fiber (g)\",\n      \"properties\": {\n        \"dtype\": \"number\",\n        \"std\": 1.6907128411239711,\n        \"min\": 0.0,\n        \"max\": 9.0,\n        \"num_unique_values\": 8,\n        \"samples\": [\n          1.0,\n          5.0,\n          2.0\n        ],\n        \"semantic_type\": \"\",\n        \"description\": \"\"\n      }\n    },\n    {\n      \"column\": \"Sugars (g)\",\n      \"properties\": {\n        \"dtype\": \"number\",\n        \"std\": 6.973463027999131,\n        \"min\": 0.0,\n        \"max\": 40.0,\n        \"num_unique_values\": 18,\n        \"samples\": [\n          11.0,\n          7.0,\n          13.0\n        ],\n        \"semantic_type\": \"\",\n        \"description\": \"\"\n      }\n    },\n    {\n      \"column\": \"Protein (g)\",\n      \"properties\": {\n        \"dtype\": \"number\",\n        \"std\": 17.14503289906578,\n        \"min\": 0.0,\n        \"max\": 71.0,\n        \"num_unique_values\": 34,\n        \"samples\": [\n          29.0,\n          8.0,\n          27.0\n        ],\n        \"semantic_type\": \"\",\n        \"description\": \"\"\n      }\n    },\n    {\n      \"column\": \"Weight Watchers\",\n      \"properties\": {\n        \"dtype\": \"number\",\n        \"std\": 302.2380700558984,\n        \"min\": 12.0,\n        \"max\": 1192.0,\n        \"num_unique_values\": 72,\n        \"samples\": [\n          963.0,\n          40.0,\n          383.0\n        ],\n        \"semantic_type\": \"\",\n        \"description\": \"\"\n      }\n    }\n  ]\n}",
              "type": "dataframe",
              "variable_name": "data"
            },
            "text/html": [
              "\n",
              "  <div id=\"df-50c66b88-0fd1-43b4-aac8-90ad91ccd065\" class=\"colab-df-container\">\n",
              "    <div>\n",
              "<style scoped>\n",
              "    .dataframe tbody tr th:only-of-type {\n",
              "        vertical-align: middle;\n",
              "    }\n",
              "\n",
              "    .dataframe tbody tr th {\n",
              "        vertical-align: top;\n",
              "    }\n",
              "\n",
              "    .dataframe thead th {\n",
              "        text-align: right;\n",
              "    }\n",
              "</style>\n",
              "<table border=\"1\" class=\"dataframe\">\n",
              "  <thead>\n",
              "    <tr style=\"text-align: right;\">\n",
              "      <th></th>\n",
              "      <th>Item</th>\n",
              "      <th>Category</th>\n",
              "      <th>Calories</th>\n",
              "      <th>Fat Calories</th>\n",
              "      <th>Fat (g)</th>\n",
              "      <th>Saturated Fat (g)</th>\n",
              "      <th>Trans Fat (g)</th>\n",
              "      <th>Cholesterol (mg)</th>\n",
              "      <th>Sodium (mg)</th>\n",
              "      <th>Total Carb (g)</th>\n",
              "      <th>Dietary Fiber (g)</th>\n",
              "      <th>Sugars (g)</th>\n",
              "      <th>Protein (g)</th>\n",
              "      <th>Weight Watchers</th>\n",
              "    </tr>\n",
              "  </thead>\n",
              "  <tbody>\n",
              "    <tr>\n",
              "      <th>0</th>\n",
              "      <td>Whopper® Sandwich</td>\n",
              "      <td>Burgers</td>\n",
              "      <td>660.0</td>\n",
              "      <td>360.0</td>\n",
              "      <td>40.0</td>\n",
              "      <td>12.0</td>\n",
              "      <td>1.5</td>\n",
              "      <td>90.0</td>\n",
              "      <td>980.0</td>\n",
              "      <td>49.0</td>\n",
              "      <td>2.0</td>\n",
              "      <td>11.0</td>\n",
              "      <td>28.0</td>\n",
              "      <td>655.0</td>\n",
              "    </tr>\n",
              "    <tr>\n",
              "      <th>1</th>\n",
              "      <td>Whopper® Sandwich with Cheese</td>\n",
              "      <td>Burgers</td>\n",
              "      <td>740.0</td>\n",
              "      <td>420.0</td>\n",
              "      <td>46.0</td>\n",
              "      <td>16.0</td>\n",
              "      <td>2.0</td>\n",
              "      <td>115.0</td>\n",
              "      <td>1340.0</td>\n",
              "      <td>50.0</td>\n",
              "      <td>2.0</td>\n",
              "      <td>11.0</td>\n",
              "      <td>32.0</td>\n",
              "      <td>735.0</td>\n",
              "    </tr>\n",
              "    <tr>\n",
              "      <th>2</th>\n",
              "      <td>Bacon &amp; Cheese Whopper® Sandwich</td>\n",
              "      <td>Burgers</td>\n",
              "      <td>790.0</td>\n",
              "      <td>460.0</td>\n",
              "      <td>51.0</td>\n",
              "      <td>17.0</td>\n",
              "      <td>2.0</td>\n",
              "      <td>125.0</td>\n",
              "      <td>1560.0</td>\n",
              "      <td>50.0</td>\n",
              "      <td>2.0</td>\n",
              "      <td>11.0</td>\n",
              "      <td>35.0</td>\n",
              "      <td>783.0</td>\n",
              "    </tr>\n",
              "    <tr>\n",
              "      <th>3</th>\n",
              "      <td>Double Whopper® Sandwich</td>\n",
              "      <td>Burgers</td>\n",
              "      <td>900.0</td>\n",
              "      <td>520.0</td>\n",
              "      <td>58.0</td>\n",
              "      <td>20.0</td>\n",
              "      <td>3.0</td>\n",
              "      <td>175.0</td>\n",
              "      <td>1050.0</td>\n",
              "      <td>49.0</td>\n",
              "      <td>2.0</td>\n",
              "      <td>11.0</td>\n",
              "      <td>48.0</td>\n",
              "      <td>883.0</td>\n",
              "    </tr>\n",
              "    <tr>\n",
              "      <th>4</th>\n",
              "      <td>Double Whopper® Sandwich with Cheese</td>\n",
              "      <td>Burgers</td>\n",
              "      <td>980.0</td>\n",
              "      <td>580.0</td>\n",
              "      <td>64.0</td>\n",
              "      <td>24.0</td>\n",
              "      <td>3.0</td>\n",
              "      <td>195.0</td>\n",
              "      <td>1410.0</td>\n",
              "      <td>50.0</td>\n",
              "      <td>2.0</td>\n",
              "      <td>11.0</td>\n",
              "      <td>52.0</td>\n",
              "      <td>963.0</td>\n",
              "    </tr>\n",
              "    <tr>\n",
              "      <th>...</th>\n",
              "      <td>...</td>\n",
              "      <td>...</td>\n",
              "      <td>...</td>\n",
              "      <td>...</td>\n",
              "      <td>...</td>\n",
              "      <td>...</td>\n",
              "      <td>...</td>\n",
              "      <td>...</td>\n",
              "      <td>...</td>\n",
              "      <td>...</td>\n",
              "      <td>...</td>\n",
              "      <td>...</td>\n",
              "      <td>...</td>\n",
              "      <td>...</td>\n",
              "    </tr>\n",
              "    <tr>\n",
              "      <th>72</th>\n",
              "      <td>Barbecue Dipping Sauce (1 oz)</td>\n",
              "      <td>Breakfast</td>\n",
              "      <td>40.0</td>\n",
              "      <td>0.0</td>\n",
              "      <td>0.0</td>\n",
              "      <td>0.0</td>\n",
              "      <td>0.0</td>\n",
              "      <td>0.0</td>\n",
              "      <td>310.0</td>\n",
              "      <td>11.0</td>\n",
              "      <td>0.0</td>\n",
              "      <td>10.0</td>\n",
              "      <td>0.0</td>\n",
              "      <td>50.0</td>\n",
              "    </tr>\n",
              "    <tr>\n",
              "      <th>73</th>\n",
              "      <td>Ranch Dipping Sauce (1 oz)</td>\n",
              "      <td>Breakfast</td>\n",
              "      <td>140.0</td>\n",
              "      <td>140.0</td>\n",
              "      <td>15.0</td>\n",
              "      <td>2.5</td>\n",
              "      <td>0.0</td>\n",
              "      <td>10.0</td>\n",
              "      <td>85.0</td>\n",
              "      <td>1.0</td>\n",
              "      <td>0.0</td>\n",
              "      <td>1.0</td>\n",
              "      <td>1.0</td>\n",
              "      <td>143.0</td>\n",
              "    </tr>\n",
              "    <tr>\n",
              "      <th>74</th>\n",
              "      <td>Buffalo Dipping Sauce (1 oz)</td>\n",
              "      <td>Breakfast</td>\n",
              "      <td>80.0</td>\n",
              "      <td>70.0</td>\n",
              "      <td>8.0</td>\n",
              "      <td>1.5</td>\n",
              "      <td>0.0</td>\n",
              "      <td>5.0</td>\n",
              "      <td>360.0</td>\n",
              "      <td>2.0</td>\n",
              "      <td>0.0</td>\n",
              "      <td>1.0</td>\n",
              "      <td>0.0</td>\n",
              "      <td>83.0</td>\n",
              "    </tr>\n",
              "    <tr>\n",
              "      <th>75</th>\n",
              "      <td>Zesty Onion Ring Dipping Sauce (1 oz)</td>\n",
              "      <td>Breakfast</td>\n",
              "      <td>150.0</td>\n",
              "      <td>140.0</td>\n",
              "      <td>15.0</td>\n",
              "      <td>2.5</td>\n",
              "      <td>0.0</td>\n",
              "      <td>20.0</td>\n",
              "      <td>240.0</td>\n",
              "      <td>3.0</td>\n",
              "      <td>0.0</td>\n",
              "      <td>0.0</td>\n",
              "      <td>0.0</td>\n",
              "      <td>153.0</td>\n",
              "    </tr>\n",
              "    <tr>\n",
              "      <th>76</th>\n",
              "      <td>Honey Mustard Dipping Sauce (1oz)</td>\n",
              "      <td>Breakfast</td>\n",
              "      <td>90.0</td>\n",
              "      <td>60.0</td>\n",
              "      <td>6.0</td>\n",
              "      <td>1.0</td>\n",
              "      <td>0.0</td>\n",
              "      <td>10.0</td>\n",
              "      <td>180.0</td>\n",
              "      <td>8.0</td>\n",
              "      <td>0.0</td>\n",
              "      <td>7.0</td>\n",
              "      <td>0.0</td>\n",
              "      <td>98.0</td>\n",
              "    </tr>\n",
              "  </tbody>\n",
              "</table>\n",
              "<p>77 rows × 14 columns</p>\n",
              "</div>\n",
              "    <div class=\"colab-df-buttons\">\n",
              "\n",
              "  <div class=\"colab-df-container\">\n",
              "    <button class=\"colab-df-convert\" onclick=\"convertToInteractive('df-50c66b88-0fd1-43b4-aac8-90ad91ccd065')\"\n",
              "            title=\"Convert this dataframe to an interactive table.\"\n",
              "            style=\"display:none;\">\n",
              "\n",
              "  <svg xmlns=\"http://www.w3.org/2000/svg\" height=\"24px\" viewBox=\"0 -960 960 960\">\n",
              "    <path d=\"M120-120v-720h720v720H120Zm60-500h600v-160H180v160Zm220 220h160v-160H400v160Zm0 220h160v-160H400v160ZM180-400h160v-160H180v160Zm440 0h160v-160H620v160ZM180-180h160v-160H180v160Zm440 0h160v-160H620v160Z\"/>\n",
              "  </svg>\n",
              "    </button>\n",
              "\n",
              "  <style>\n",
              "    .colab-df-container {\n",
              "      display:flex;\n",
              "      gap: 12px;\n",
              "    }\n",
              "\n",
              "    .colab-df-convert {\n",
              "      background-color: #E8F0FE;\n",
              "      border: none;\n",
              "      border-radius: 50%;\n",
              "      cursor: pointer;\n",
              "      display: none;\n",
              "      fill: #1967D2;\n",
              "      height: 32px;\n",
              "      padding: 0 0 0 0;\n",
              "      width: 32px;\n",
              "    }\n",
              "\n",
              "    .colab-df-convert:hover {\n",
              "      background-color: #E2EBFA;\n",
              "      box-shadow: 0px 1px 2px rgba(60, 64, 67, 0.3), 0px 1px 3px 1px rgba(60, 64, 67, 0.15);\n",
              "      fill: #174EA6;\n",
              "    }\n",
              "\n",
              "    .colab-df-buttons div {\n",
              "      margin-bottom: 4px;\n",
              "    }\n",
              "\n",
              "    [theme=dark] .colab-df-convert {\n",
              "      background-color: #3B4455;\n",
              "      fill: #D2E3FC;\n",
              "    }\n",
              "\n",
              "    [theme=dark] .colab-df-convert:hover {\n",
              "      background-color: #434B5C;\n",
              "      box-shadow: 0px 1px 3px 1px rgba(0, 0, 0, 0.15);\n",
              "      filter: drop-shadow(0px 1px 2px rgba(0, 0, 0, 0.3));\n",
              "      fill: #FFFFFF;\n",
              "    }\n",
              "  </style>\n",
              "\n",
              "    <script>\n",
              "      const buttonEl =\n",
              "        document.querySelector('#df-50c66b88-0fd1-43b4-aac8-90ad91ccd065 button.colab-df-convert');\n",
              "      buttonEl.style.display =\n",
              "        google.colab.kernel.accessAllowed ? 'block' : 'none';\n",
              "\n",
              "      async function convertToInteractive(key) {\n",
              "        const element = document.querySelector('#df-50c66b88-0fd1-43b4-aac8-90ad91ccd065');\n",
              "        const dataTable =\n",
              "          await google.colab.kernel.invokeFunction('convertToInteractive',\n",
              "                                                    [key], {});\n",
              "        if (!dataTable) return;\n",
              "\n",
              "        const docLinkHtml = 'Like what you see? Visit the ' +\n",
              "          '<a target=\"_blank\" href=https://colab.research.google.com/notebooks/data_table.ipynb>data table notebook</a>'\n",
              "          + ' to learn more about interactive tables.';\n",
              "        element.innerHTML = '';\n",
              "        dataTable['output_type'] = 'display_data';\n",
              "        await google.colab.output.renderOutput(dataTable, element);\n",
              "        const docLink = document.createElement('div');\n",
              "        docLink.innerHTML = docLinkHtml;\n",
              "        element.appendChild(docLink);\n",
              "      }\n",
              "    </script>\n",
              "  </div>\n",
              "\n",
              "\n",
              "<div id=\"df-db7db728-0eb2-4b32-9731-13c83e597c02\">\n",
              "  <button class=\"colab-df-quickchart\" onclick=\"quickchart('df-db7db728-0eb2-4b32-9731-13c83e597c02')\"\n",
              "            title=\"Suggest charts\"\n",
              "            style=\"display:none;\">\n",
              "\n",
              "<svg xmlns=\"http://www.w3.org/2000/svg\" height=\"24px\"viewBox=\"0 0 24 24\"\n",
              "     width=\"24px\">\n",
              "    <g>\n",
              "        <path d=\"M19 3H5c-1.1 0-2 .9-2 2v14c0 1.1.9 2 2 2h14c1.1 0 2-.9 2-2V5c0-1.1-.9-2-2-2zM9 17H7v-7h2v7zm4 0h-2V7h2v10zm4 0h-2v-4h2v4z\"/>\n",
              "    </g>\n",
              "</svg>\n",
              "  </button>\n",
              "\n",
              "<style>\n",
              "  .colab-df-quickchart {\n",
              "      --bg-color: #E8F0FE;\n",
              "      --fill-color: #1967D2;\n",
              "      --hover-bg-color: #E2EBFA;\n",
              "      --hover-fill-color: #174EA6;\n",
              "      --disabled-fill-color: #AAA;\n",
              "      --disabled-bg-color: #DDD;\n",
              "  }\n",
              "\n",
              "  [theme=dark] .colab-df-quickchart {\n",
              "      --bg-color: #3B4455;\n",
              "      --fill-color: #D2E3FC;\n",
              "      --hover-bg-color: #434B5C;\n",
              "      --hover-fill-color: #FFFFFF;\n",
              "      --disabled-bg-color: #3B4455;\n",
              "      --disabled-fill-color: #666;\n",
              "  }\n",
              "\n",
              "  .colab-df-quickchart {\n",
              "    background-color: var(--bg-color);\n",
              "    border: none;\n",
              "    border-radius: 50%;\n",
              "    cursor: pointer;\n",
              "    display: none;\n",
              "    fill: var(--fill-color);\n",
              "    height: 32px;\n",
              "    padding: 0;\n",
              "    width: 32px;\n",
              "  }\n",
              "\n",
              "  .colab-df-quickchart:hover {\n",
              "    background-color: var(--hover-bg-color);\n",
              "    box-shadow: 0 1px 2px rgba(60, 64, 67, 0.3), 0 1px 3px 1px rgba(60, 64, 67, 0.15);\n",
              "    fill: var(--button-hover-fill-color);\n",
              "  }\n",
              "\n",
              "  .colab-df-quickchart-complete:disabled,\n",
              "  .colab-df-quickchart-complete:disabled:hover {\n",
              "    background-color: var(--disabled-bg-color);\n",
              "    fill: var(--disabled-fill-color);\n",
              "    box-shadow: none;\n",
              "  }\n",
              "\n",
              "  .colab-df-spinner {\n",
              "    border: 2px solid var(--fill-color);\n",
              "    border-color: transparent;\n",
              "    border-bottom-color: var(--fill-color);\n",
              "    animation:\n",
              "      spin 1s steps(1) infinite;\n",
              "  }\n",
              "\n",
              "  @keyframes spin {\n",
              "    0% {\n",
              "      border-color: transparent;\n",
              "      border-bottom-color: var(--fill-color);\n",
              "      border-left-color: var(--fill-color);\n",
              "    }\n",
              "    20% {\n",
              "      border-color: transparent;\n",
              "      border-left-color: var(--fill-color);\n",
              "      border-top-color: var(--fill-color);\n",
              "    }\n",
              "    30% {\n",
              "      border-color: transparent;\n",
              "      border-left-color: var(--fill-color);\n",
              "      border-top-color: var(--fill-color);\n",
              "      border-right-color: var(--fill-color);\n",
              "    }\n",
              "    40% {\n",
              "      border-color: transparent;\n",
              "      border-right-color: var(--fill-color);\n",
              "      border-top-color: var(--fill-color);\n",
              "    }\n",
              "    60% {\n",
              "      border-color: transparent;\n",
              "      border-right-color: var(--fill-color);\n",
              "    }\n",
              "    80% {\n",
              "      border-color: transparent;\n",
              "      border-right-color: var(--fill-color);\n",
              "      border-bottom-color: var(--fill-color);\n",
              "    }\n",
              "    90% {\n",
              "      border-color: transparent;\n",
              "      border-bottom-color: var(--fill-color);\n",
              "    }\n",
              "  }\n",
              "</style>\n",
              "\n",
              "  <script>\n",
              "    async function quickchart(key) {\n",
              "      const quickchartButtonEl =\n",
              "        document.querySelector('#' + key + ' button');\n",
              "      quickchartButtonEl.disabled = true;  // To prevent multiple clicks.\n",
              "      quickchartButtonEl.classList.add('colab-df-spinner');\n",
              "      try {\n",
              "        const charts = await google.colab.kernel.invokeFunction(\n",
              "            'suggestCharts', [key], {});\n",
              "      } catch (error) {\n",
              "        console.error('Error during call to suggestCharts:', error);\n",
              "      }\n",
              "      quickchartButtonEl.classList.remove('colab-df-spinner');\n",
              "      quickchartButtonEl.classList.add('colab-df-quickchart-complete');\n",
              "    }\n",
              "    (() => {\n",
              "      let quickchartButtonEl =\n",
              "        document.querySelector('#df-db7db728-0eb2-4b32-9731-13c83e597c02 button');\n",
              "      quickchartButtonEl.style.display =\n",
              "        google.colab.kernel.accessAllowed ? 'block' : 'none';\n",
              "    })();\n",
              "  </script>\n",
              "</div>\n",
              "    </div>\n",
              "  </div>\n"
            ],
            "text/plain": [
              "                                     Item   Category  Calories  Fat Calories  \\\n",
              "0                       Whopper® Sandwich    Burgers     660.0         360.0   \n",
              "1           Whopper® Sandwich with Cheese    Burgers     740.0         420.0   \n",
              "2        Bacon & Cheese Whopper® Sandwich    Burgers     790.0         460.0   \n",
              "3                Double Whopper® Sandwich    Burgers     900.0         520.0   \n",
              "4    Double Whopper® Sandwich with Cheese    Burgers     980.0         580.0   \n",
              "..                                    ...        ...       ...           ...   \n",
              "72          Barbecue Dipping Sauce (1 oz)  Breakfast      40.0           0.0   \n",
              "73             Ranch Dipping Sauce (1 oz)  Breakfast     140.0         140.0   \n",
              "74           Buffalo Dipping Sauce (1 oz)  Breakfast      80.0          70.0   \n",
              "75  Zesty Onion Ring Dipping Sauce (1 oz)  Breakfast     150.0         140.0   \n",
              "76      Honey Mustard Dipping Sauce (1oz)  Breakfast      90.0          60.0   \n",
              "\n",
              "    Fat (g)  Saturated Fat (g)  Trans Fat (g)  Cholesterol (mg)  Sodium (mg)  \\\n",
              "0      40.0               12.0            1.5              90.0        980.0   \n",
              "1      46.0               16.0            2.0             115.0       1340.0   \n",
              "2      51.0               17.0            2.0             125.0       1560.0   \n",
              "3      58.0               20.0            3.0             175.0       1050.0   \n",
              "4      64.0               24.0            3.0             195.0       1410.0   \n",
              "..      ...                ...            ...               ...          ...   \n",
              "72      0.0                0.0            0.0               0.0        310.0   \n",
              "73     15.0                2.5            0.0              10.0         85.0   \n",
              "74      8.0                1.5            0.0               5.0        360.0   \n",
              "75     15.0                2.5            0.0              20.0        240.0   \n",
              "76      6.0                1.0            0.0              10.0        180.0   \n",
              "\n",
              "    Total Carb (g)  Dietary Fiber (g)  Sugars (g)  Protein (g)  \\\n",
              "0             49.0                2.0        11.0         28.0   \n",
              "1             50.0                2.0        11.0         32.0   \n",
              "2             50.0                2.0        11.0         35.0   \n",
              "3             49.0                2.0        11.0         48.0   \n",
              "4             50.0                2.0        11.0         52.0   \n",
              "..             ...                ...         ...          ...   \n",
              "72            11.0                0.0        10.0          0.0   \n",
              "73             1.0                0.0         1.0          1.0   \n",
              "74             2.0                0.0         1.0          0.0   \n",
              "75             3.0                0.0         0.0          0.0   \n",
              "76             8.0                0.0         7.0          0.0   \n",
              "\n",
              "    Weight Watchers  \n",
              "0             655.0  \n",
              "1             735.0  \n",
              "2             783.0  \n",
              "3             883.0  \n",
              "4             963.0  \n",
              "..              ...  \n",
              "72             50.0  \n",
              "73            143.0  \n",
              "74             83.0  \n",
              "75            153.0  \n",
              "76             98.0  \n",
              "\n",
              "[77 rows x 14 columns]"
            ]
          },
          "execution_count": 2,
          "metadata": {},
          "output_type": "execute_result"
        }
      ],
      "source": [
        "data"
      ]
    },
    {
      "cell_type": "code",
      "execution_count": 3,
      "metadata": {
        "colab": {
          "base_uri": "https://localhost:8080/"
        },
        "id": "en9TXEd7NAys",
        "outputId": "07fd710d-36bd-47f3-f522-9f1bd20bbce3"
      },
      "outputs": [
        {
          "data": {
            "text/plain": [
              "Item                 0\n",
              "Category             0\n",
              "Calories             0\n",
              "Fat Calories         0\n",
              "Fat (g)              0\n",
              "Saturated Fat (g)    0\n",
              "Trans Fat (g)        0\n",
              "Cholesterol (mg)     0\n",
              "Sodium (mg)          0\n",
              "Total Carb (g)       0\n",
              "Dietary Fiber (g)    0\n",
              "Sugars (g)           0\n",
              "Protein (g)          0\n",
              "Weight Watchers      0\n",
              "dtype: int64"
            ]
          },
          "execution_count": 3,
          "metadata": {},
          "output_type": "execute_result"
        }
      ],
      "source": [
        "data.isnull().sum()"
      ]
    },
    {
      "cell_type": "code",
      "execution_count": 4,
      "metadata": {
        "colab": {
          "base_uri": "https://localhost:8080/",
          "height": 355
        },
        "id": "Ol_u1iHaNvOQ",
        "outputId": "f1201be1-31a5-4502-bce2-e51c66aa0943"
      },
      "outputs": [
        {
          "data": {
            "application/vnd.google.colaboratory.intrinsic+json": {
              "summary": "{\n  \"name\": \"data\",\n  \"rows\": 8,\n  \"fields\": [\n    {\n      \"column\": \"Calories\",\n      \"properties\": {\n        \"dtype\": \"number\",\n        \"std\": 386.6420483326768,\n        \"min\": 10.0,\n        \"max\": 1220.0,\n        \"num_unique_values\": 8,\n        \"samples\": [\n          501.42857142857144,\n          430.0,\n          77.0\n        ],\n        \"semantic_type\": \"\",\n        \"description\": \"\"\n      }\n    },\n    {\n      \"column\": \"Fat Calories\",\n      \"properties\": {\n        \"dtype\": \"number\",\n        \"std\": 231.7908963943364,\n        \"min\": 0.0,\n        \"max\": 750.0,\n        \"num_unique_values\": 8,\n        \"samples\": [\n          278.31168831168833,\n          250.0,\n          77.0\n        ],\n        \"semantic_type\": \"\",\n        \"description\": \"\"\n      }\n    },\n    {\n      \"column\": \"Fat (g)\",\n      \"properties\": {\n        \"dtype\": \"number\",\n        \"std\": 29.354171368238646,\n        \"min\": 0.0,\n        \"max\": 84.0,\n        \"num_unique_values\": 8,\n        \"samples\": [\n          30.967532467532468,\n          28.0,\n          77.0\n        ],\n        \"semantic_type\": \"\",\n        \"description\": \"\"\n      }\n    },\n    {\n      \"column\": \"Saturated Fat (g)\",\n      \"properties\": {\n        \"dtype\": \"number\",\n        \"std\": 25.38264212922315,\n        \"min\": 0.0,\n        \"max\": 77.0,\n        \"num_unique_values\": 8,\n        \"samples\": [\n          9.805194805194805,\n          8.0,\n          77.0\n        ],\n        \"semantic_type\": \"\",\n        \"description\": \"\"\n      }\n    },\n    {\n      \"column\": \"Trans Fat (g)\",\n      \"properties\": {\n        \"dtype\": \"number\",\n        \"std\": 26.923452388781396,\n        \"min\": 0.0,\n        \"max\": 77.0,\n        \"num_unique_values\": 6,\n        \"samples\": [\n          77.0,\n          0.6363636363636364,\n          4.5\n        ],\n        \"semantic_type\": \"\",\n        \"description\": \"\"\n      }\n    },\n    {\n      \"column\": \"Cholesterol (mg)\",\n      \"properties\": {\n        \"dtype\": \"number\",\n        \"std\": 122.15328356926338,\n        \"min\": 0.0,\n        \"max\": 390.0,\n        \"num_unique_values\": 8,\n        \"samples\": [\n          101.75324675324676,\n          70.0,\n          77.0\n        ],\n        \"semantic_type\": \"\",\n        \"description\": \"\"\n      }\n    },\n    {\n      \"column\": \"Sodium (mg)\",\n      \"properties\": {\n        \"dtype\": \"number\",\n        \"std\": 910.4861082806912,\n        \"min\": 0.0,\n        \"max\": 2840.0,\n        \"num_unique_values\": 8,\n        \"samples\": [\n          993.2467532467532,\n          1010.0,\n          77.0\n        ],\n        \"semantic_type\": \"\",\n        \"description\": \"\"\n      }\n    },\n    {\n      \"column\": \"Total Carb (g)\",\n      \"properties\": {\n        \"dtype\": \"number\",\n        \"std\": 34.75973677093114,\n        \"min\": 1.0,\n        \"max\": 110.0,\n        \"num_unique_values\": 8,\n        \"samples\": [\n          35.18181818181818,\n          30.0,\n          77.0\n        ],\n        \"semantic_type\": \"\",\n        \"description\": \"\"\n      }\n    },\n    {\n      \"column\": \"Dietary Fiber (g)\",\n      \"properties\": {\n        \"dtype\": \"number\",\n        \"std\": 26.53823542179525,\n        \"min\": 0.0,\n        \"max\": 77.0,\n        \"num_unique_values\": 7,\n        \"samples\": [\n          77.0,\n          1.7792207792207793,\n          2.0\n        ],\n        \"semantic_type\": \"\",\n        \"description\": \"\"\n      }\n    },\n    {\n      \"column\": \"Sugars (g)\",\n      \"properties\": {\n        \"dtype\": \"number\",\n        \"std\": 26.819736583695004,\n        \"min\": 0.0,\n        \"max\": 77.0,\n        \"num_unique_values\": 8,\n        \"samples\": [\n          6.636363636363637,\n          6.0,\n          77.0\n        ],\n        \"semantic_type\": \"\",\n        \"description\": \"\"\n      }\n    },\n    {\n      \"column\": \"Protein (g)\",\n      \"properties\": {\n        \"dtype\": \"number\",\n        \"std\": 28.116413224398283,\n        \"min\": 0.0,\n        \"max\": 77.0,\n        \"num_unique_values\": 8,\n        \"samples\": [\n          20.90909090909091,\n          17.0,\n          77.0\n        ],\n        \"semantic_type\": \"\",\n        \"description\": \"\"\n      }\n    },\n    {\n      \"column\": \"Weight Watchers\",\n      \"properties\": {\n        \"dtype\": \"number\",\n        \"std\": 378.01690368182386,\n        \"min\": 12.0,\n        \"max\": 1192.0,\n        \"num_unique_values\": 8,\n        \"samples\": [\n          497.06493506493507,\n          416.0,\n          77.0\n        ],\n        \"semantic_type\": \"\",\n        \"description\": \"\"\n      }\n    }\n  ]\n}",
              "type": "dataframe"
            },
            "text/html": [
              "\n",
              "  <div id=\"df-5fd958db-41c5-4336-a4ea-caecf6761891\" class=\"colab-df-container\">\n",
              "    <div>\n",
              "<style scoped>\n",
              "    .dataframe tbody tr th:only-of-type {\n",
              "        vertical-align: middle;\n",
              "    }\n",
              "\n",
              "    .dataframe tbody tr th {\n",
              "        vertical-align: top;\n",
              "    }\n",
              "\n",
              "    .dataframe thead th {\n",
              "        text-align: right;\n",
              "    }\n",
              "</style>\n",
              "<table border=\"1\" class=\"dataframe\">\n",
              "  <thead>\n",
              "    <tr style=\"text-align: right;\">\n",
              "      <th></th>\n",
              "      <th>Calories</th>\n",
              "      <th>Fat Calories</th>\n",
              "      <th>Fat (g)</th>\n",
              "      <th>Saturated Fat (g)</th>\n",
              "      <th>Trans Fat (g)</th>\n",
              "      <th>Cholesterol (mg)</th>\n",
              "      <th>Sodium (mg)</th>\n",
              "      <th>Total Carb (g)</th>\n",
              "      <th>Dietary Fiber (g)</th>\n",
              "      <th>Sugars (g)</th>\n",
              "      <th>Protein (g)</th>\n",
              "      <th>Weight Watchers</th>\n",
              "    </tr>\n",
              "  </thead>\n",
              "  <tbody>\n",
              "    <tr>\n",
              "      <th>count</th>\n",
              "      <td>77.000000</td>\n",
              "      <td>77.000000</td>\n",
              "      <td>77.000000</td>\n",
              "      <td>77.000000</td>\n",
              "      <td>77.000000</td>\n",
              "      <td>77.000000</td>\n",
              "      <td>77.000000</td>\n",
              "      <td>77.000000</td>\n",
              "      <td>77.000000</td>\n",
              "      <td>77.000000</td>\n",
              "      <td>77.000000</td>\n",
              "      <td>77.000000</td>\n",
              "    </tr>\n",
              "    <tr>\n",
              "      <th>mean</th>\n",
              "      <td>501.428571</td>\n",
              "      <td>278.311688</td>\n",
              "      <td>30.967532</td>\n",
              "      <td>9.805195</td>\n",
              "      <td>0.636364</td>\n",
              "      <td>101.753247</td>\n",
              "      <td>993.246753</td>\n",
              "      <td>35.181818</td>\n",
              "      <td>1.779221</td>\n",
              "      <td>6.636364</td>\n",
              "      <td>20.909091</td>\n",
              "      <td>497.064935</td>\n",
              "    </tr>\n",
              "    <tr>\n",
              "      <th>std</th>\n",
              "      <td>307.612685</td>\n",
              "      <td>184.393762</td>\n",
              "      <td>20.535966</td>\n",
              "      <td>8.118431</td>\n",
              "      <td>1.128682</td>\n",
              "      <td>97.958659</td>\n",
              "      <td>613.426403</td>\n",
              "      <td>20.716588</td>\n",
              "      <td>1.690713</td>\n",
              "      <td>6.973463</td>\n",
              "      <td>17.145033</td>\n",
              "      <td>302.238070</td>\n",
              "    </tr>\n",
              "    <tr>\n",
              "      <th>min</th>\n",
              "      <td>10.000000</td>\n",
              "      <td>0.000000</td>\n",
              "      <td>0.000000</td>\n",
              "      <td>0.000000</td>\n",
              "      <td>0.000000</td>\n",
              "      <td>0.000000</td>\n",
              "      <td>0.000000</td>\n",
              "      <td>1.000000</td>\n",
              "      <td>0.000000</td>\n",
              "      <td>0.000000</td>\n",
              "      <td>0.000000</td>\n",
              "      <td>12.000000</td>\n",
              "    </tr>\n",
              "    <tr>\n",
              "      <th>25%</th>\n",
              "      <td>260.000000</td>\n",
              "      <td>140.000000</td>\n",
              "      <td>16.000000</td>\n",
              "      <td>3.500000</td>\n",
              "      <td>0.000000</td>\n",
              "      <td>25.000000</td>\n",
              "      <td>470.000000</td>\n",
              "      <td>26.000000</td>\n",
              "      <td>1.000000</td>\n",
              "      <td>1.000000</td>\n",
              "      <td>12.000000</td>\n",
              "      <td>252.000000</td>\n",
              "    </tr>\n",
              "    <tr>\n",
              "      <th>50%</th>\n",
              "      <td>430.000000</td>\n",
              "      <td>250.000000</td>\n",
              "      <td>28.000000</td>\n",
              "      <td>8.000000</td>\n",
              "      <td>0.000000</td>\n",
              "      <td>70.000000</td>\n",
              "      <td>1010.000000</td>\n",
              "      <td>30.000000</td>\n",
              "      <td>1.000000</td>\n",
              "      <td>6.000000</td>\n",
              "      <td>17.000000</td>\n",
              "      <td>416.000000</td>\n",
              "    </tr>\n",
              "    <tr>\n",
              "      <th>75%</th>\n",
              "      <td>700.000000</td>\n",
              "      <td>380.000000</td>\n",
              "      <td>42.000000</td>\n",
              "      <td>14.000000</td>\n",
              "      <td>0.500000</td>\n",
              "      <td>175.000000</td>\n",
              "      <td>1420.000000</td>\n",
              "      <td>49.000000</td>\n",
              "      <td>2.000000</td>\n",
              "      <td>10.000000</td>\n",
              "      <td>28.000000</td>\n",
              "      <td>690.000000</td>\n",
              "    </tr>\n",
              "    <tr>\n",
              "      <th>max</th>\n",
              "      <td>1220.000000</td>\n",
              "      <td>750.000000</td>\n",
              "      <td>84.000000</td>\n",
              "      <td>33.000000</td>\n",
              "      <td>4.500000</td>\n",
              "      <td>390.000000</td>\n",
              "      <td>2840.000000</td>\n",
              "      <td>110.000000</td>\n",
              "      <td>9.000000</td>\n",
              "      <td>40.000000</td>\n",
              "      <td>71.000000</td>\n",
              "      <td>1192.000000</td>\n",
              "    </tr>\n",
              "  </tbody>\n",
              "</table>\n",
              "</div>\n",
              "    <div class=\"colab-df-buttons\">\n",
              "\n",
              "  <div class=\"colab-df-container\">\n",
              "    <button class=\"colab-df-convert\" onclick=\"convertToInteractive('df-5fd958db-41c5-4336-a4ea-caecf6761891')\"\n",
              "            title=\"Convert this dataframe to an interactive table.\"\n",
              "            style=\"display:none;\">\n",
              "\n",
              "  <svg xmlns=\"http://www.w3.org/2000/svg\" height=\"24px\" viewBox=\"0 -960 960 960\">\n",
              "    <path d=\"M120-120v-720h720v720H120Zm60-500h600v-160H180v160Zm220 220h160v-160H400v160Zm0 220h160v-160H400v160ZM180-400h160v-160H180v160Zm440 0h160v-160H620v160ZM180-180h160v-160H180v160Zm440 0h160v-160H620v160Z\"/>\n",
              "  </svg>\n",
              "    </button>\n",
              "\n",
              "  <style>\n",
              "    .colab-df-container {\n",
              "      display:flex;\n",
              "      gap: 12px;\n",
              "    }\n",
              "\n",
              "    .colab-df-convert {\n",
              "      background-color: #E8F0FE;\n",
              "      border: none;\n",
              "      border-radius: 50%;\n",
              "      cursor: pointer;\n",
              "      display: none;\n",
              "      fill: #1967D2;\n",
              "      height: 32px;\n",
              "      padding: 0 0 0 0;\n",
              "      width: 32px;\n",
              "    }\n",
              "\n",
              "    .colab-df-convert:hover {\n",
              "      background-color: #E2EBFA;\n",
              "      box-shadow: 0px 1px 2px rgba(60, 64, 67, 0.3), 0px 1px 3px 1px rgba(60, 64, 67, 0.15);\n",
              "      fill: #174EA6;\n",
              "    }\n",
              "\n",
              "    .colab-df-buttons div {\n",
              "      margin-bottom: 4px;\n",
              "    }\n",
              "\n",
              "    [theme=dark] .colab-df-convert {\n",
              "      background-color: #3B4455;\n",
              "      fill: #D2E3FC;\n",
              "    }\n",
              "\n",
              "    [theme=dark] .colab-df-convert:hover {\n",
              "      background-color: #434B5C;\n",
              "      box-shadow: 0px 1px 3px 1px rgba(0, 0, 0, 0.15);\n",
              "      filter: drop-shadow(0px 1px 2px rgba(0, 0, 0, 0.3));\n",
              "      fill: #FFFFFF;\n",
              "    }\n",
              "  </style>\n",
              "\n",
              "    <script>\n",
              "      const buttonEl =\n",
              "        document.querySelector('#df-5fd958db-41c5-4336-a4ea-caecf6761891 button.colab-df-convert');\n",
              "      buttonEl.style.display =\n",
              "        google.colab.kernel.accessAllowed ? 'block' : 'none';\n",
              "\n",
              "      async function convertToInteractive(key) {\n",
              "        const element = document.querySelector('#df-5fd958db-41c5-4336-a4ea-caecf6761891');\n",
              "        const dataTable =\n",
              "          await google.colab.kernel.invokeFunction('convertToInteractive',\n",
              "                                                    [key], {});\n",
              "        if (!dataTable) return;\n",
              "\n",
              "        const docLinkHtml = 'Like what you see? Visit the ' +\n",
              "          '<a target=\"_blank\" href=https://colab.research.google.com/notebooks/data_table.ipynb>data table notebook</a>'\n",
              "          + ' to learn more about interactive tables.';\n",
              "        element.innerHTML = '';\n",
              "        dataTable['output_type'] = 'display_data';\n",
              "        await google.colab.output.renderOutput(dataTable, element);\n",
              "        const docLink = document.createElement('div');\n",
              "        docLink.innerHTML = docLinkHtml;\n",
              "        element.appendChild(docLink);\n",
              "      }\n",
              "    </script>\n",
              "  </div>\n",
              "\n",
              "\n",
              "<div id=\"df-f1b83c00-a86a-4625-ad17-d5e0cccee135\">\n",
              "  <button class=\"colab-df-quickchart\" onclick=\"quickchart('df-f1b83c00-a86a-4625-ad17-d5e0cccee135')\"\n",
              "            title=\"Suggest charts\"\n",
              "            style=\"display:none;\">\n",
              "\n",
              "<svg xmlns=\"http://www.w3.org/2000/svg\" height=\"24px\"viewBox=\"0 0 24 24\"\n",
              "     width=\"24px\">\n",
              "    <g>\n",
              "        <path d=\"M19 3H5c-1.1 0-2 .9-2 2v14c0 1.1.9 2 2 2h14c1.1 0 2-.9 2-2V5c0-1.1-.9-2-2-2zM9 17H7v-7h2v7zm4 0h-2V7h2v10zm4 0h-2v-4h2v4z\"/>\n",
              "    </g>\n",
              "</svg>\n",
              "  </button>\n",
              "\n",
              "<style>\n",
              "  .colab-df-quickchart {\n",
              "      --bg-color: #E8F0FE;\n",
              "      --fill-color: #1967D2;\n",
              "      --hover-bg-color: #E2EBFA;\n",
              "      --hover-fill-color: #174EA6;\n",
              "      --disabled-fill-color: #AAA;\n",
              "      --disabled-bg-color: #DDD;\n",
              "  }\n",
              "\n",
              "  [theme=dark] .colab-df-quickchart {\n",
              "      --bg-color: #3B4455;\n",
              "      --fill-color: #D2E3FC;\n",
              "      --hover-bg-color: #434B5C;\n",
              "      --hover-fill-color: #FFFFFF;\n",
              "      --disabled-bg-color: #3B4455;\n",
              "      --disabled-fill-color: #666;\n",
              "  }\n",
              "\n",
              "  .colab-df-quickchart {\n",
              "    background-color: var(--bg-color);\n",
              "    border: none;\n",
              "    border-radius: 50%;\n",
              "    cursor: pointer;\n",
              "    display: none;\n",
              "    fill: var(--fill-color);\n",
              "    height: 32px;\n",
              "    padding: 0;\n",
              "    width: 32px;\n",
              "  }\n",
              "\n",
              "  .colab-df-quickchart:hover {\n",
              "    background-color: var(--hover-bg-color);\n",
              "    box-shadow: 0 1px 2px rgba(60, 64, 67, 0.3), 0 1px 3px 1px rgba(60, 64, 67, 0.15);\n",
              "    fill: var(--button-hover-fill-color);\n",
              "  }\n",
              "\n",
              "  .colab-df-quickchart-complete:disabled,\n",
              "  .colab-df-quickchart-complete:disabled:hover {\n",
              "    background-color: var(--disabled-bg-color);\n",
              "    fill: var(--disabled-fill-color);\n",
              "    box-shadow: none;\n",
              "  }\n",
              "\n",
              "  .colab-df-spinner {\n",
              "    border: 2px solid var(--fill-color);\n",
              "    border-color: transparent;\n",
              "    border-bottom-color: var(--fill-color);\n",
              "    animation:\n",
              "      spin 1s steps(1) infinite;\n",
              "  }\n",
              "\n",
              "  @keyframes spin {\n",
              "    0% {\n",
              "      border-color: transparent;\n",
              "      border-bottom-color: var(--fill-color);\n",
              "      border-left-color: var(--fill-color);\n",
              "    }\n",
              "    20% {\n",
              "      border-color: transparent;\n",
              "      border-left-color: var(--fill-color);\n",
              "      border-top-color: var(--fill-color);\n",
              "    }\n",
              "    30% {\n",
              "      border-color: transparent;\n",
              "      border-left-color: var(--fill-color);\n",
              "      border-top-color: var(--fill-color);\n",
              "      border-right-color: var(--fill-color);\n",
              "    }\n",
              "    40% {\n",
              "      border-color: transparent;\n",
              "      border-right-color: var(--fill-color);\n",
              "      border-top-color: var(--fill-color);\n",
              "    }\n",
              "    60% {\n",
              "      border-color: transparent;\n",
              "      border-right-color: var(--fill-color);\n",
              "    }\n",
              "    80% {\n",
              "      border-color: transparent;\n",
              "      border-right-color: var(--fill-color);\n",
              "      border-bottom-color: var(--fill-color);\n",
              "    }\n",
              "    90% {\n",
              "      border-color: transparent;\n",
              "      border-bottom-color: var(--fill-color);\n",
              "    }\n",
              "  }\n",
              "</style>\n",
              "\n",
              "  <script>\n",
              "    async function quickchart(key) {\n",
              "      const quickchartButtonEl =\n",
              "        document.querySelector('#' + key + ' button');\n",
              "      quickchartButtonEl.disabled = true;  // To prevent multiple clicks.\n",
              "      quickchartButtonEl.classList.add('colab-df-spinner');\n",
              "      try {\n",
              "        const charts = await google.colab.kernel.invokeFunction(\n",
              "            'suggestCharts', [key], {});\n",
              "      } catch (error) {\n",
              "        console.error('Error during call to suggestCharts:', error);\n",
              "      }\n",
              "      quickchartButtonEl.classList.remove('colab-df-spinner');\n",
              "      quickchartButtonEl.classList.add('colab-df-quickchart-complete');\n",
              "    }\n",
              "    (() => {\n",
              "      let quickchartButtonEl =\n",
              "        document.querySelector('#df-f1b83c00-a86a-4625-ad17-d5e0cccee135 button');\n",
              "      quickchartButtonEl.style.display =\n",
              "        google.colab.kernel.accessAllowed ? 'block' : 'none';\n",
              "    })();\n",
              "  </script>\n",
              "</div>\n",
              "    </div>\n",
              "  </div>\n"
            ],
            "text/plain": [
              "          Calories  Fat Calories    Fat (g)  Saturated Fat (g)  Trans Fat (g)  \\\n",
              "count    77.000000     77.000000  77.000000          77.000000      77.000000   \n",
              "mean    501.428571    278.311688  30.967532           9.805195       0.636364   \n",
              "std     307.612685    184.393762  20.535966           8.118431       1.128682   \n",
              "min      10.000000      0.000000   0.000000           0.000000       0.000000   \n",
              "25%     260.000000    140.000000  16.000000           3.500000       0.000000   \n",
              "50%     430.000000    250.000000  28.000000           8.000000       0.000000   \n",
              "75%     700.000000    380.000000  42.000000          14.000000       0.500000   \n",
              "max    1220.000000    750.000000  84.000000          33.000000       4.500000   \n",
              "\n",
              "       Cholesterol (mg)  Sodium (mg)  Total Carb (g)  Dietary Fiber (g)  \\\n",
              "count         77.000000    77.000000       77.000000          77.000000   \n",
              "mean         101.753247   993.246753       35.181818           1.779221   \n",
              "std           97.958659   613.426403       20.716588           1.690713   \n",
              "min            0.000000     0.000000        1.000000           0.000000   \n",
              "25%           25.000000   470.000000       26.000000           1.000000   \n",
              "50%           70.000000  1010.000000       30.000000           1.000000   \n",
              "75%          175.000000  1420.000000       49.000000           2.000000   \n",
              "max          390.000000  2840.000000      110.000000           9.000000   \n",
              "\n",
              "       Sugars (g)  Protein (g)  Weight Watchers  \n",
              "count   77.000000    77.000000        77.000000  \n",
              "mean     6.636364    20.909091       497.064935  \n",
              "std      6.973463    17.145033       302.238070  \n",
              "min      0.000000     0.000000        12.000000  \n",
              "25%      1.000000    12.000000       252.000000  \n",
              "50%      6.000000    17.000000       416.000000  \n",
              "75%     10.000000    28.000000       690.000000  \n",
              "max     40.000000    71.000000      1192.000000  "
            ]
          },
          "execution_count": 4,
          "metadata": {},
          "output_type": "execute_result"
        }
      ],
      "source": [
        "data.describe()"
      ]
    },
    {
      "cell_type": "code",
      "execution_count": 5,
      "metadata": {
        "colab": {
          "base_uri": "https://localhost:8080/"
        },
        "id": "zCtuRP5wODZS",
        "outputId": "5782caab-4d53-4758-cb48-8ae645b995f8"
      },
      "outputs": [
        {
          "data": {
            "text/plain": [
              "Index(['Item', 'Category', 'Calories', 'Fat Calories', 'Fat (g)',\n",
              "       'Saturated Fat (g)', 'Trans Fat (g)', 'Cholesterol (mg)', 'Sodium (mg)',\n",
              "       'Total Carb (g)', 'Dietary Fiber (g)', 'Sugars (g)', 'Protein (g)',\n",
              "       'Weight Watchers'],\n",
              "      dtype='object')"
            ]
          },
          "execution_count": 5,
          "metadata": {},
          "output_type": "execute_result"
        }
      ],
      "source": [
        "data.columns"
      ]
    },
    {
      "cell_type": "code",
      "execution_count": 113,
      "metadata": {
        "colab": {
          "base_uri": "https://localhost:8080/"
        },
        "id": "-jrdHBM7o7Jr",
        "outputId": "f1fbf2e3-069f-409d-9a21-e8c026437f7a"
      },
      "outputs": [
        {
          "data": {
            "text/plain": [
              "array([[40., 49.],\n",
              "       [46., 50.],\n",
              "       [51., 50.],\n",
              "       [58., 49.],\n",
              "       [64., 50.]])"
            ]
          },
          "execution_count": 113,
          "metadata": {},
          "output_type": "execute_result"
        }
      ],
      "source": [
        "#Seleccione las columnas de Grasas totales y total de carbohidratos .\n",
        "X =  data.iloc[:, [4, 9]].values\n",
        "X[0:5]"
      ]
    },
    {
      "cell_type": "code",
      "execution_count": 114,
      "metadata": {
        "colab": {
          "base_uri": "https://localhost:8080/"
        },
        "id": "jcUZb2ysVIVs",
        "outputId": "fdfeefad-3a2e-4b53-e48b-3398cceaa732"
      },
      "outputs": [
        {
          "data": {
            "text/plain": [
              "array([[0.44272071, 0.67138438],\n",
              "       [0.73680693, 0.71997141],\n",
              "       [0.98187878, 0.71997141],\n",
              "       [1.32497937, 0.67138438],\n",
              "       [1.61906559, 0.71997141]])"
            ]
          },
          "execution_count": 114,
          "metadata": {},
          "output_type": "execute_result"
        }
      ],
      "source": [
        "from sklearn.preprocessing import StandardScaler\n",
        "X_s = StandardScaler()\n",
        "X_std=X_s.fit_transform(X)\n",
        "X_std[0:5]"
      ]
    },
    {
      "cell_type": "markdown",
      "metadata": {
        "id": "8h8fSGbChAm4"
      },
      "source": [
        "## **Algoritmo K-means**"
      ]
    },
    {
      "cell_type": "code",
      "execution_count": 221,
      "metadata": {
        "id": "O-K-QUFwpubO"
      },
      "outputs": [],
      "source": [
        "# Clase KMeans de la biblioteca sklearn.\n",
        "from sklearn.cluster import KMeans\n",
        "#En lugar de seleccionar los centroides iniciales de forma aleatoria, \"k-means++\"\n",
        "#utiliza un enfoque más sofisticado basado en una distribución de probabilidad.\n",
        "# n_init=10 :Número de veces que se ejecuta el algoritmo k-means con diferentes semillas de centroide.\n",
        "kmeans = KMeans(n_clusters=2, init ='k-means++', max_iter=300, n_init=10, random_state=0 )"
      ]
    },
    {
      "cell_type": "code",
      "execution_count": 222,
      "metadata": {
        "colab": {
          "base_uri": "https://localhost:8080/"
        },
        "id": "Mw4LL1rDrh5g",
        "outputId": "7149dacd-3cdb-42fd-88ee-2c9cf47b47e7"
      },
      "outputs": [
        {
          "data": {
            "text/plain": [
              "2"
            ]
          },
          "execution_count": 222,
          "metadata": {},
          "output_type": "execute_result"
        }
      ],
      "source": [
        "kmeans.n_clusters"
      ]
    },
    {
      "cell_type": "code",
      "execution_count": 225,
      "metadata": {
        "id": "gYBurzSmrjvZ"
      },
      "outputs": [],
      "source": [
        "y_kmeans = kmeans.fit_predict(X_std)"
      ]
    },
    {
      "cell_type": "code",
      "execution_count": 226,
      "metadata": {
        "id": "PX52NZW9V032"
      },
      "outputs": [],
      "source": [
        "# Obtener los centroides estandarizados\n",
        "centroides_estandarizados = kmeans.cluster_centers_\n",
        "\n",
        "# Transformación inversa de los centroides para obtener los valores originales\n",
        "centroides_originales = X_s.inverse_transform(centroides_estandarizados)"
      ]
    },
    {
      "cell_type": "code",
      "execution_count": 227,
      "metadata": {
        "colab": {
          "base_uri": "https://localhost:8080/"
        },
        "id": "N0Qi91rNrpGR",
        "outputId": "0c6a6f92-5408-4768-f583-31efb6ae3ad8"
      },
      "outputs": [
        {
          "data": {
            "text/plain": [
              "numpy.ndarray"
            ]
          },
          "execution_count": 227,
          "metadata": {},
          "output_type": "execute_result"
        }
      ],
      "source": [
        "type(y_kmeans)"
      ]
    },
    {
      "cell_type": "code",
      "execution_count": 228,
      "metadata": {
        "colab": {
          "base_uri": "https://localhost:8080/"
        },
        "id": "_9X9DCWysE2V",
        "outputId": "4fe664f3-f301-476f-b9b6-be06739b201f"
      },
      "outputs": [
        {
          "data": {
            "text/plain": [
              "array([1, 1, 1, 1, 1, 1, 1, 0, 1, 1, 1, 1, 1, 1, 1, 0, 0, 0, 0, 1, 0, 0,\n",
              "       1, 1, 1, 1, 1, 0, 0, 0, 0, 0, 1, 0, 0, 0, 1, 0, 0, 1, 0, 0, 0, 0,\n",
              "       0, 0, 0, 0, 0, 0, 1, 0, 1, 0, 0, 0, 0, 0, 1, 1, 1, 1, 0, 1, 1, 0,\n",
              "       0, 0, 0, 0, 0, 0, 0, 0, 0, 0, 0], dtype=int32)"
            ]
          },
          "execution_count": 228,
          "metadata": {},
          "output_type": "execute_result"
        }
      ],
      "source": [
        "y_kmeans"
      ]
    },
    {
      "cell_type": "code",
      "execution_count": 229,
      "metadata": {
        "colab": {
          "base_uri": "https://localhost:8080/",
          "height": 466
        },
        "id": "U9WE7-OssM2G",
        "outputId": "dace442c-3f43-405f-a6a6-2b7abebbbd93"
      },
      "outputs": [
        {
          "data": {
            "application/vnd.google.colaboratory.intrinsic+json": {
              "summary": "{\n  \"name\": \"data\",\n  \"rows\": 77,\n  \"fields\": [\n    {\n      \"column\": \"Item\",\n      \"properties\": {\n        \"dtype\": \"string\",\n        \"num_unique_values\": 73,\n        \"samples\": [\n          \"Double Whopper\\u00ae Sandwich with Cheese\",\n          \"American Cheese (slice)\",\n          \"Double Cheeseburger\"\n        ],\n        \"semantic_type\": \"\",\n        \"description\": \"\"\n      }\n    },\n    {\n      \"column\": \"Category\",\n      \"properties\": {\n        \"dtype\": \"category\",\n        \"num_unique_values\": 3,\n        \"samples\": [\n          \"Burgers\",\n          \"Chicken\",\n          \"Breakfast\"\n        ],\n        \"semantic_type\": \"\",\n        \"description\": \"\"\n      }\n    },\n    {\n      \"column\": \"Calories\",\n      \"properties\": {\n        \"dtype\": \"number\",\n        \"std\": 307.6126848973794,\n        \"min\": 10.0,\n        \"max\": 1220.0,\n        \"num_unique_values\": 50,\n        \"samples\": [\n          630.0,\n          250.0,\n          340.0\n        ],\n        \"semantic_type\": \"\",\n        \"description\": \"\"\n      }\n    },\n    {\n      \"column\": \"Fat Calories\",\n      \"properties\": {\n        \"dtype\": \"number\",\n        \"std\": 184.3937620063351,\n        \"min\": 0.0,\n        \"max\": 750.0,\n        \"num_unique_values\": 46,\n        \"samples\": [\n          390.0,\n          150.0,\n          240.0\n        ],\n        \"semantic_type\": \"\",\n        \"description\": \"\"\n      }\n    },\n    {\n      \"column\": \"Fat (g)\",\n      \"properties\": {\n        \"dtype\": \"number\",\n        \"std\": 20.535966149009745,\n        \"min\": 0.0,\n        \"max\": 84.0,\n        \"num_unique_values\": 45,\n        \"samples\": [\n          44.0,\n          11.0,\n          27.0\n        ],\n        \"semantic_type\": \"\",\n        \"description\": \"\"\n      }\n    },\n    {\n      \"column\": \"Saturated Fat (g)\",\n      \"properties\": {\n        \"dtype\": \"number\",\n        \"std\": 8.118430884557744,\n        \"min\": 0.0,\n        \"max\": 33.0,\n        \"num_unique_values\": 29,\n        \"samples\": [\n          0.5,\n          9.0,\n          11.0\n        ],\n        \"semantic_type\": \"\",\n        \"description\": \"\"\n      }\n    },\n    {\n      \"column\": \"Trans Fat (g)\",\n      \"properties\": {\n        \"dtype\": \"number\",\n        \"std\": 1.1286821718163518,\n        \"min\": 0.0,\n        \"max\": 4.5,\n        \"num_unique_values\": 9,\n        \"samples\": [\n          0.0,\n          2.0,\n          0.5\n        ],\n        \"semantic_type\": \"\",\n        \"description\": \"\"\n      }\n    },\n    {\n      \"column\": \"Cholesterol (mg)\",\n      \"properties\": {\n        \"dtype\": \"number\",\n        \"std\": 97.95865882097459,\n        \"min\": 0.0,\n        \"max\": 390.0,\n        \"num_unique_values\": 39,\n        \"samples\": [\n          150.0,\n          380.0,\n          195.0\n        ],\n        \"semantic_type\": \"\",\n        \"description\": \"\"\n      }\n    },\n    {\n      \"column\": \"Sodium (mg)\",\n      \"properties\": {\n        \"dtype\": \"number\",\n        \"std\": 613.4264026511926,\n        \"min\": 0.0,\n        \"max\": 2840.0,\n        \"num_unique_values\": 60,\n        \"samples\": [\n          980.0,\n          1120.0,\n          1030.0\n        ],\n        \"semantic_type\": \"\",\n        \"description\": \"\"\n      }\n    },\n    {\n      \"column\": \"Total Carb (g)\",\n      \"properties\": {\n        \"dtype\": \"number\",\n        \"std\": 20.716588365192347,\n        \"min\": 1.0,\n        \"max\": 110.0,\n        \"num_unique_values\": 36,\n        \"samples\": [\n          8.0,\n          11.0,\n          110.0\n        ],\n        \"semantic_type\": \"\",\n        \"description\": \"\"\n      }\n    },\n    {\n      \"column\": \"Dietary Fiber (g)\",\n      \"properties\": {\n        \"dtype\": \"number\",\n        \"std\": 1.6907128411239711,\n        \"min\": 0.0,\n        \"max\": 9.0,\n        \"num_unique_values\": 8,\n        \"samples\": [\n          1.0,\n          5.0,\n          2.0\n        ],\n        \"semantic_type\": \"\",\n        \"description\": \"\"\n      }\n    },\n    {\n      \"column\": \"Sugars (g)\",\n      \"properties\": {\n        \"dtype\": \"number\",\n        \"std\": 6.973463027999131,\n        \"min\": 0.0,\n        \"max\": 40.0,\n        \"num_unique_values\": 18,\n        \"samples\": [\n          11.0,\n          7.0,\n          13.0\n        ],\n        \"semantic_type\": \"\",\n        \"description\": \"\"\n      }\n    },\n    {\n      \"column\": \"Protein (g)\",\n      \"properties\": {\n        \"dtype\": \"number\",\n        \"std\": 17.14503289906578,\n        \"min\": 0.0,\n        \"max\": 71.0,\n        \"num_unique_values\": 34,\n        \"samples\": [\n          29.0,\n          8.0,\n          27.0\n        ],\n        \"semantic_type\": \"\",\n        \"description\": \"\"\n      }\n    },\n    {\n      \"column\": \"Weight Watchers\",\n      \"properties\": {\n        \"dtype\": \"number\",\n        \"std\": 302.2380700558984,\n        \"min\": 12.0,\n        \"max\": 1192.0,\n        \"num_unique_values\": 72,\n        \"samples\": [\n          963.0,\n          40.0,\n          383.0\n        ],\n        \"semantic_type\": \"\",\n        \"description\": \"\"\n      }\n    },\n    {\n      \"column\": \"cluster\",\n      \"properties\": {\n        \"dtype\": \"int32\",\n        \"num_unique_values\": 2,\n        \"samples\": [\n          0,\n          1\n        ],\n        \"semantic_type\": \"\",\n        \"description\": \"\"\n      }\n    }\n  ]\n}",
              "type": "dataframe",
              "variable_name": "data"
            },
            "text/html": [
              "\n",
              "  <div id=\"df-a0b6c731-be1c-45f1-9743-1b0d1914db11\" class=\"colab-df-container\">\n",
              "    <div>\n",
              "<style scoped>\n",
              "    .dataframe tbody tr th:only-of-type {\n",
              "        vertical-align: middle;\n",
              "    }\n",
              "\n",
              "    .dataframe tbody tr th {\n",
              "        vertical-align: top;\n",
              "    }\n",
              "\n",
              "    .dataframe thead th {\n",
              "        text-align: right;\n",
              "    }\n",
              "</style>\n",
              "<table border=\"1\" class=\"dataframe\">\n",
              "  <thead>\n",
              "    <tr style=\"text-align: right;\">\n",
              "      <th></th>\n",
              "      <th>Item</th>\n",
              "      <th>Category</th>\n",
              "      <th>Calories</th>\n",
              "      <th>Fat Calories</th>\n",
              "      <th>Fat (g)</th>\n",
              "      <th>Saturated Fat (g)</th>\n",
              "      <th>Trans Fat (g)</th>\n",
              "      <th>Cholesterol (mg)</th>\n",
              "      <th>Sodium (mg)</th>\n",
              "      <th>Total Carb (g)</th>\n",
              "      <th>Dietary Fiber (g)</th>\n",
              "      <th>Sugars (g)</th>\n",
              "      <th>Protein (g)</th>\n",
              "      <th>Weight Watchers</th>\n",
              "      <th>cluster</th>\n",
              "    </tr>\n",
              "  </thead>\n",
              "  <tbody>\n",
              "    <tr>\n",
              "      <th>0</th>\n",
              "      <td>Whopper® Sandwich</td>\n",
              "      <td>Burgers</td>\n",
              "      <td>660.0</td>\n",
              "      <td>360.0</td>\n",
              "      <td>40.0</td>\n",
              "      <td>12.0</td>\n",
              "      <td>1.5</td>\n",
              "      <td>90.0</td>\n",
              "      <td>980.0</td>\n",
              "      <td>49.0</td>\n",
              "      <td>2.0</td>\n",
              "      <td>11.0</td>\n",
              "      <td>28.0</td>\n",
              "      <td>655.0</td>\n",
              "      <td>1</td>\n",
              "    </tr>\n",
              "    <tr>\n",
              "      <th>1</th>\n",
              "      <td>Whopper® Sandwich with Cheese</td>\n",
              "      <td>Burgers</td>\n",
              "      <td>740.0</td>\n",
              "      <td>420.0</td>\n",
              "      <td>46.0</td>\n",
              "      <td>16.0</td>\n",
              "      <td>2.0</td>\n",
              "      <td>115.0</td>\n",
              "      <td>1340.0</td>\n",
              "      <td>50.0</td>\n",
              "      <td>2.0</td>\n",
              "      <td>11.0</td>\n",
              "      <td>32.0</td>\n",
              "      <td>735.0</td>\n",
              "      <td>1</td>\n",
              "    </tr>\n",
              "    <tr>\n",
              "      <th>2</th>\n",
              "      <td>Bacon &amp; Cheese Whopper® Sandwich</td>\n",
              "      <td>Burgers</td>\n",
              "      <td>790.0</td>\n",
              "      <td>460.0</td>\n",
              "      <td>51.0</td>\n",
              "      <td>17.0</td>\n",
              "      <td>2.0</td>\n",
              "      <td>125.0</td>\n",
              "      <td>1560.0</td>\n",
              "      <td>50.0</td>\n",
              "      <td>2.0</td>\n",
              "      <td>11.0</td>\n",
              "      <td>35.0</td>\n",
              "      <td>783.0</td>\n",
              "      <td>1</td>\n",
              "    </tr>\n",
              "    <tr>\n",
              "      <th>3</th>\n",
              "      <td>Double Whopper® Sandwich</td>\n",
              "      <td>Burgers</td>\n",
              "      <td>900.0</td>\n",
              "      <td>520.0</td>\n",
              "      <td>58.0</td>\n",
              "      <td>20.0</td>\n",
              "      <td>3.0</td>\n",
              "      <td>175.0</td>\n",
              "      <td>1050.0</td>\n",
              "      <td>49.0</td>\n",
              "      <td>2.0</td>\n",
              "      <td>11.0</td>\n",
              "      <td>48.0</td>\n",
              "      <td>883.0</td>\n",
              "      <td>1</td>\n",
              "    </tr>\n",
              "    <tr>\n",
              "      <th>4</th>\n",
              "      <td>Double Whopper® Sandwich with Cheese</td>\n",
              "      <td>Burgers</td>\n",
              "      <td>980.0</td>\n",
              "      <td>580.0</td>\n",
              "      <td>64.0</td>\n",
              "      <td>24.0</td>\n",
              "      <td>3.0</td>\n",
              "      <td>195.0</td>\n",
              "      <td>1410.0</td>\n",
              "      <td>50.0</td>\n",
              "      <td>2.0</td>\n",
              "      <td>11.0</td>\n",
              "      <td>52.0</td>\n",
              "      <td>963.0</td>\n",
              "      <td>1</td>\n",
              "    </tr>\n",
              "  </tbody>\n",
              "</table>\n",
              "</div>\n",
              "    <div class=\"colab-df-buttons\">\n",
              "\n",
              "  <div class=\"colab-df-container\">\n",
              "    <button class=\"colab-df-convert\" onclick=\"convertToInteractive('df-a0b6c731-be1c-45f1-9743-1b0d1914db11')\"\n",
              "            title=\"Convert this dataframe to an interactive table.\"\n",
              "            style=\"display:none;\">\n",
              "\n",
              "  <svg xmlns=\"http://www.w3.org/2000/svg\" height=\"24px\" viewBox=\"0 -960 960 960\">\n",
              "    <path d=\"M120-120v-720h720v720H120Zm60-500h600v-160H180v160Zm220 220h160v-160H400v160Zm0 220h160v-160H400v160ZM180-400h160v-160H180v160Zm440 0h160v-160H620v160ZM180-180h160v-160H180v160Zm440 0h160v-160H620v160Z\"/>\n",
              "  </svg>\n",
              "    </button>\n",
              "\n",
              "  <style>\n",
              "    .colab-df-container {\n",
              "      display:flex;\n",
              "      gap: 12px;\n",
              "    }\n",
              "\n",
              "    .colab-df-convert {\n",
              "      background-color: #E8F0FE;\n",
              "      border: none;\n",
              "      border-radius: 50%;\n",
              "      cursor: pointer;\n",
              "      display: none;\n",
              "      fill: #1967D2;\n",
              "      height: 32px;\n",
              "      padding: 0 0 0 0;\n",
              "      width: 32px;\n",
              "    }\n",
              "\n",
              "    .colab-df-convert:hover {\n",
              "      background-color: #E2EBFA;\n",
              "      box-shadow: 0px 1px 2px rgba(60, 64, 67, 0.3), 0px 1px 3px 1px rgba(60, 64, 67, 0.15);\n",
              "      fill: #174EA6;\n",
              "    }\n",
              "\n",
              "    .colab-df-buttons div {\n",
              "      margin-bottom: 4px;\n",
              "    }\n",
              "\n",
              "    [theme=dark] .colab-df-convert {\n",
              "      background-color: #3B4455;\n",
              "      fill: #D2E3FC;\n",
              "    }\n",
              "\n",
              "    [theme=dark] .colab-df-convert:hover {\n",
              "      background-color: #434B5C;\n",
              "      box-shadow: 0px 1px 3px 1px rgba(0, 0, 0, 0.15);\n",
              "      filter: drop-shadow(0px 1px 2px rgba(0, 0, 0, 0.3));\n",
              "      fill: #FFFFFF;\n",
              "    }\n",
              "  </style>\n",
              "\n",
              "    <script>\n",
              "      const buttonEl =\n",
              "        document.querySelector('#df-a0b6c731-be1c-45f1-9743-1b0d1914db11 button.colab-df-convert');\n",
              "      buttonEl.style.display =\n",
              "        google.colab.kernel.accessAllowed ? 'block' : 'none';\n",
              "\n",
              "      async function convertToInteractive(key) {\n",
              "        const element = document.querySelector('#df-a0b6c731-be1c-45f1-9743-1b0d1914db11');\n",
              "        const dataTable =\n",
              "          await google.colab.kernel.invokeFunction('convertToInteractive',\n",
              "                                                    [key], {});\n",
              "        if (!dataTable) return;\n",
              "\n",
              "        const docLinkHtml = 'Like what you see? Visit the ' +\n",
              "          '<a target=\"_blank\" href=https://colab.research.google.com/notebooks/data_table.ipynb>data table notebook</a>'\n",
              "          + ' to learn more about interactive tables.';\n",
              "        element.innerHTML = '';\n",
              "        dataTable['output_type'] = 'display_data';\n",
              "        await google.colab.output.renderOutput(dataTable, element);\n",
              "        const docLink = document.createElement('div');\n",
              "        docLink.innerHTML = docLinkHtml;\n",
              "        element.appendChild(docLink);\n",
              "      }\n",
              "    </script>\n",
              "  </div>\n",
              "\n",
              "\n",
              "<div id=\"df-d4f61c36-c175-452f-9c9b-07df9c950567\">\n",
              "  <button class=\"colab-df-quickchart\" onclick=\"quickchart('df-d4f61c36-c175-452f-9c9b-07df9c950567')\"\n",
              "            title=\"Suggest charts\"\n",
              "            style=\"display:none;\">\n",
              "\n",
              "<svg xmlns=\"http://www.w3.org/2000/svg\" height=\"24px\"viewBox=\"0 0 24 24\"\n",
              "     width=\"24px\">\n",
              "    <g>\n",
              "        <path d=\"M19 3H5c-1.1 0-2 .9-2 2v14c0 1.1.9 2 2 2h14c1.1 0 2-.9 2-2V5c0-1.1-.9-2-2-2zM9 17H7v-7h2v7zm4 0h-2V7h2v10zm4 0h-2v-4h2v4z\"/>\n",
              "    </g>\n",
              "</svg>\n",
              "  </button>\n",
              "\n",
              "<style>\n",
              "  .colab-df-quickchart {\n",
              "      --bg-color: #E8F0FE;\n",
              "      --fill-color: #1967D2;\n",
              "      --hover-bg-color: #E2EBFA;\n",
              "      --hover-fill-color: #174EA6;\n",
              "      --disabled-fill-color: #AAA;\n",
              "      --disabled-bg-color: #DDD;\n",
              "  }\n",
              "\n",
              "  [theme=dark] .colab-df-quickchart {\n",
              "      --bg-color: #3B4455;\n",
              "      --fill-color: #D2E3FC;\n",
              "      --hover-bg-color: #434B5C;\n",
              "      --hover-fill-color: #FFFFFF;\n",
              "      --disabled-bg-color: #3B4455;\n",
              "      --disabled-fill-color: #666;\n",
              "  }\n",
              "\n",
              "  .colab-df-quickchart {\n",
              "    background-color: var(--bg-color);\n",
              "    border: none;\n",
              "    border-radius: 50%;\n",
              "    cursor: pointer;\n",
              "    display: none;\n",
              "    fill: var(--fill-color);\n",
              "    height: 32px;\n",
              "    padding: 0;\n",
              "    width: 32px;\n",
              "  }\n",
              "\n",
              "  .colab-df-quickchart:hover {\n",
              "    background-color: var(--hover-bg-color);\n",
              "    box-shadow: 0 1px 2px rgba(60, 64, 67, 0.3), 0 1px 3px 1px rgba(60, 64, 67, 0.15);\n",
              "    fill: var(--button-hover-fill-color);\n",
              "  }\n",
              "\n",
              "  .colab-df-quickchart-complete:disabled,\n",
              "  .colab-df-quickchart-complete:disabled:hover {\n",
              "    background-color: var(--disabled-bg-color);\n",
              "    fill: var(--disabled-fill-color);\n",
              "    box-shadow: none;\n",
              "  }\n",
              "\n",
              "  .colab-df-spinner {\n",
              "    border: 2px solid var(--fill-color);\n",
              "    border-color: transparent;\n",
              "    border-bottom-color: var(--fill-color);\n",
              "    animation:\n",
              "      spin 1s steps(1) infinite;\n",
              "  }\n",
              "\n",
              "  @keyframes spin {\n",
              "    0% {\n",
              "      border-color: transparent;\n",
              "      border-bottom-color: var(--fill-color);\n",
              "      border-left-color: var(--fill-color);\n",
              "    }\n",
              "    20% {\n",
              "      border-color: transparent;\n",
              "      border-left-color: var(--fill-color);\n",
              "      border-top-color: var(--fill-color);\n",
              "    }\n",
              "    30% {\n",
              "      border-color: transparent;\n",
              "      border-left-color: var(--fill-color);\n",
              "      border-top-color: var(--fill-color);\n",
              "      border-right-color: var(--fill-color);\n",
              "    }\n",
              "    40% {\n",
              "      border-color: transparent;\n",
              "      border-right-color: var(--fill-color);\n",
              "      border-top-color: var(--fill-color);\n",
              "    }\n",
              "    60% {\n",
              "      border-color: transparent;\n",
              "      border-right-color: var(--fill-color);\n",
              "    }\n",
              "    80% {\n",
              "      border-color: transparent;\n",
              "      border-right-color: var(--fill-color);\n",
              "      border-bottom-color: var(--fill-color);\n",
              "    }\n",
              "    90% {\n",
              "      border-color: transparent;\n",
              "      border-bottom-color: var(--fill-color);\n",
              "    }\n",
              "  }\n",
              "</style>\n",
              "\n",
              "  <script>\n",
              "    async function quickchart(key) {\n",
              "      const quickchartButtonEl =\n",
              "        document.querySelector('#' + key + ' button');\n",
              "      quickchartButtonEl.disabled = true;  // To prevent multiple clicks.\n",
              "      quickchartButtonEl.classList.add('colab-df-spinner');\n",
              "      try {\n",
              "        const charts = await google.colab.kernel.invokeFunction(\n",
              "            'suggestCharts', [key], {});\n",
              "      } catch (error) {\n",
              "        console.error('Error during call to suggestCharts:', error);\n",
              "      }\n",
              "      quickchartButtonEl.classList.remove('colab-df-spinner');\n",
              "      quickchartButtonEl.classList.add('colab-df-quickchart-complete');\n",
              "    }\n",
              "    (() => {\n",
              "      let quickchartButtonEl =\n",
              "        document.querySelector('#df-d4f61c36-c175-452f-9c9b-07df9c950567 button');\n",
              "      quickchartButtonEl.style.display =\n",
              "        google.colab.kernel.accessAllowed ? 'block' : 'none';\n",
              "    })();\n",
              "  </script>\n",
              "</div>\n",
              "    </div>\n",
              "  </div>\n"
            ],
            "text/plain": [
              "                                   Item Category  Calories  Fat Calories  \\\n",
              "0                     Whopper® Sandwich  Burgers     660.0         360.0   \n",
              "1         Whopper® Sandwich with Cheese  Burgers     740.0         420.0   \n",
              "2      Bacon & Cheese Whopper® Sandwich  Burgers     790.0         460.0   \n",
              "3              Double Whopper® Sandwich  Burgers     900.0         520.0   \n",
              "4  Double Whopper® Sandwich with Cheese  Burgers     980.0         580.0   \n",
              "\n",
              "   Fat (g)  Saturated Fat (g)  Trans Fat (g)  Cholesterol (mg)  Sodium (mg)  \\\n",
              "0     40.0               12.0            1.5              90.0        980.0   \n",
              "1     46.0               16.0            2.0             115.0       1340.0   \n",
              "2     51.0               17.0            2.0             125.0       1560.0   \n",
              "3     58.0               20.0            3.0             175.0       1050.0   \n",
              "4     64.0               24.0            3.0             195.0       1410.0   \n",
              "\n",
              "   Total Carb (g)  Dietary Fiber (g)  Sugars (g)  Protein (g)  \\\n",
              "0            49.0                2.0        11.0         28.0   \n",
              "1            50.0                2.0        11.0         32.0   \n",
              "2            50.0                2.0        11.0         35.0   \n",
              "3            49.0                2.0        11.0         48.0   \n",
              "4            50.0                2.0        11.0         52.0   \n",
              "\n",
              "   Weight Watchers  cluster  \n",
              "0            655.0        1  \n",
              "1            735.0        1  \n",
              "2            783.0        1  \n",
              "3            883.0        1  \n",
              "4            963.0        1  "
            ]
          },
          "execution_count": 229,
          "metadata": {},
          "output_type": "execute_result"
        }
      ],
      "source": [
        "data['cluster'] = y_kmeans\n",
        "data.head()"
      ]
    },
    {
      "cell_type": "code",
      "execution_count": 230,
      "metadata": {
        "colab": {
          "base_uri": "https://localhost:8080/"
        },
        "id": "7Pl-QFI1sShp",
        "outputId": "9e1a1446-3e98-4819-c13b-4f63a08c8131"
      },
      "outputs": [
        {
          "name": "stdout",
          "output_type": "stream",
          "text": [
            "(77,)\n",
            "int32\n"
          ]
        }
      ],
      "source": [
        "print(y_kmeans.shape)\n",
        "print(y_kmeans.dtype)"
      ]
    },
    {
      "cell_type": "code",
      "execution_count": 234,
      "metadata": {
        "colab": {
          "base_uri": "https://localhost:8080/",
          "height": 472
        },
        "id": "6M7J62pRseub",
        "outputId": "cd55d7b0-49c6-4c62-9b85-0ab7b07957a0"
      },
      "outputs": [
        {
          "data": {
            "image/png": "[encoded data removed]",
            "text/plain": [
              "<Figure size 640x480 with 1 Axes>"
            ]
          },
          "metadata": {},
          "output_type": "display_data"
        }
      ],
      "source": [
        "#Visualizando los clusters\n",
        "plt.scatter(X[y_kmeans==0, 0], X[y_kmeans==0, 1], s=100, c='red', label ='Cluster 1')\n",
        "plt.scatter(X[y_kmeans==1, 0], X[y_kmeans==1, 1], s=100, c='blue', label ='Cluster 2')\n",
        "\n",
        "#Traza el centroide. Esta vez vamos a utilizar los centros de cluster.\n",
        "#atributo que devuelve aquí las coordenadas del centroide.\n",
        "plt.legend()\n",
        "plt.scatter(centroides_originales[:, 0], centroides_originales[:, 1], s=300, c='yellow', label = 'Centros')\n",
        "plt.title('Clusters de menú de Burger King (grasas totales - carbohidratos totales)')\n",
        "plt.xlabel('Grasas Total (g)')\n",
        "plt.ylabel('Carbohidratos totales (g)')\n",
        "plt.show()"
      ]
    },
    {
      "cell_type": "code",
      "execution_count": 235,
      "metadata": {
        "colab": {
          "base_uri": "https://localhost:8080/",
          "height": 150
        },
        "id": "Cw0mi9qvGMxH",
        "outputId": "120b1541-cb46-4262-9d8a-f546b6e9d988"
      },
      "outputs": [
        {
          "data": {
            "application/vnd.google.colaboratory.intrinsic+json": {
              "summary": "{\n  \"name\": \"rCluster1\",\n  \"rows\": 46,\n  \"fields\": [\n    {\n      \"column\": \"Item\",\n      \"properties\": {\n        \"dtype\": \"string\",\n        \"num_unique_values\": 42,\n        \"samples\": [\n          \"Sausage, Egg, & Cheese Biscuit\",\n          \"Spicy Chicken Nuggets- 6pc\",\n          \"Spicy Crispy Chicken Jr.\"\n        ],\n        \"semantic_type\": \"\",\n        \"description\": \"\"\n      }\n    },\n    {\n      \"column\": \"Category\",\n      \"properties\": {\n        \"dtype\": \"category\",\n        \"num_unique_values\": 3,\n        \"samples\": [\n          \"Burgers\",\n          \"Chicken\",\n          \"Breakfast\"\n        ],\n        \"semantic_type\": \"\",\n        \"description\": \"\"\n      }\n    },\n    {\n      \"column\": \"Calories\",\n      \"properties\": {\n        \"dtype\": \"number\",\n        \"std\": 157.73027794215713,\n        \"min\": 10.0,\n        \"max\": 610.0,\n        \"num_unique_values\": 30,\n        \"samples\": [\n          140.0,\n          370.0,\n          10.0\n        ],\n        \"semantic_type\": \"\",\n        \"description\": \"\"\n      }\n    },\n    {\n      \"column\": \"Fat Calories\",\n      \"properties\": {\n        \"dtype\": \"number\",\n        \"std\": 94.94391937394914,\n        \"min\": 0.0,\n        \"max\": 360.0,\n        \"num_unique_values\": 24,\n        \"samples\": [\n          150.0,\n          360.0,\n          160.0\n        ],\n        \"semantic_type\": \"\",\n        \"description\": \"\"\n      }\n    },\n    {\n      \"column\": \"Fat (g)\",\n      \"properties\": {\n        \"dtype\": \"number\",\n        \"std\": 10.713422210430112,\n        \"min\": 0.0,\n        \"max\": 40.0,\n        \"num_unique_values\": 25,\n        \"samples\": [\n          27.0,\n          40.0,\n          18.0\n        ],\n        \"semantic_type\": \"\",\n        \"description\": \"\"\n      }\n    },\n    {\n      \"column\": \"Saturated Fat (g)\",\n      \"properties\": {\n        \"dtype\": \"number\",\n        \"std\": 4.78616413736078,\n        \"min\": 0.0,\n        \"max\": 17.0,\n        \"num_unique_values\": 19,\n        \"samples\": [\n          5.0,\n          10.0,\n          13.0\n        ],\n        \"semantic_type\": \"\",\n        \"description\": \"\"\n      }\n    },\n    {\n      \"column\": \"Trans Fat (g)\",\n      \"properties\": {\n        \"dtype\": \"number\",\n        \"std\": 0.37056556852965994,\n        \"min\": 0.0,\n        \"max\": 1.5,\n        \"num_unique_values\": 4,\n        \"samples\": [\n          1.0,\n          0.0,\n          0.5\n        ],\n        \"semantic_type\": \"\",\n        \"description\": \"\"\n      }\n    },\n    {\n      \"column\": \"Cholesterol (mg)\",\n      \"properties\": {\n        \"dtype\": \"number\",\n        \"std\": 72.33343351358855,\n        \"min\": 0.0,\n        \"max\": 225.0,\n        \"num_unique_values\": 21,\n        \"samples\": [\n          40.0,\n          220.0,\n          225.0\n        ],\n        \"semantic_type\": \"\",\n        \"description\": \"\"\n      }\n    },\n    {\n      \"column\": \"Sodium (mg)\",\n      \"properties\": {\n        \"dtype\": \"number\",\n        \"std\": 438.22335645755754,\n        \"min\": 0.0,\n        \"max\": 1680.0,\n        \"num_unique_values\": 35,\n        \"samples\": [\n          430.0,\n          610.0,\n          580.0\n        ],\n        \"semantic_type\": \"\",\n        \"description\": \"\"\n      }\n    },\n    {\n      \"column\": \"Total Carb (g)\",\n      \"properties\": {\n        \"dtype\": \"number\",\n        \"std\": 11.18124724058423,\n        \"min\": 1.0,\n        \"max\": 49.0,\n        \"num_unique_values\": 20,\n        \"samples\": [\n          27.0,\n          7.0,\n          1.0\n        ],\n        \"semantic_type\": \"\",\n        \"description\": \"\"\n      }\n    },\n    {\n      \"column\": \"Dietary Fiber (g)\",\n      \"properties\": {\n        \"dtype\": \"number\",\n        \"std\": 0.9000805116967215,\n        \"min\": 0.0,\n        \"max\": 4.0,\n        \"num_unique_values\": 5,\n        \"samples\": [\n          2.0,\n          0.0,\n          3.0\n        ],\n        \"semantic_type\": \"\",\n        \"description\": \"\"\n      }\n    },\n    {\n      \"column\": \"Sugars (g)\",\n      \"properties\": {\n        \"dtype\": \"number\",\n        \"std\": 3.80928182461257,\n        \"min\": 0.0,\n        \"max\": 18.0,\n        \"num_unique_values\": 12,\n        \"samples\": [\n          18.0,\n          13.0,\n          7.0\n        ],\n        \"semantic_type\": \"\",\n        \"description\": \"\"\n      }\n    },\n    {\n      \"column\": \"Protein (g)\",\n      \"properties\": {\n        \"dtype\": \"number\",\n        \"std\": 8.158573333652136,\n        \"min\": 0.0,\n        \"max\": 28.0,\n        \"num_unique_values\": 18,\n        \"samples\": [\n          13.0,\n          15.0,\n          20.0\n        ],\n        \"semantic_type\": \"\",\n        \"description\": \"\"\n      }\n    },\n    {\n      \"column\": \"Weight Watchers\",\n      \"properties\": {\n        \"dtype\": \"number\",\n        \"std\": 154.88941980377405,\n        \"min\": 12.0,\n        \"max\": 604.0,\n        \"num_unique_values\": 41,\n        \"samples\": [\n          398.0,\n          313.0,\n          388.0\n        ],\n        \"semantic_type\": \"\",\n        \"description\": \"\"\n      }\n    },\n    {\n      \"column\": \"cluster\",\n      \"properties\": {\n        \"dtype\": \"int32\",\n        \"num_unique_values\": 1,\n        \"samples\": [\n          0\n        ],\n        \"semantic_type\": \"\",\n        \"description\": \"\"\n      }\n    }\n  ]\n}",
              "type": "dataframe",
              "variable_name": "rCluster1"
            },
            "text/html": [
              "\n",
              "  <div id=\"df-d647436d-2b44-494e-aeaa-320271518c76\" class=\"colab-df-container\">\n",
              "    <div>\n",
              "<style scoped>\n",
              "    .dataframe tbody tr th:only-of-type {\n",
              "        vertical-align: middle;\n",
              "    }\n",
              "\n",
              "    .dataframe tbody tr th {\n",
              "        vertical-align: top;\n",
              "    }\n",
              "\n",
              "    .dataframe thead th {\n",
              "        text-align: right;\n",
              "    }\n",
              "</style>\n",
              "<table border=\"1\" class=\"dataframe\">\n",
              "  <thead>\n",
              "    <tr style=\"text-align: right;\">\n",
              "      <th></th>\n",
              "      <th>Item</th>\n",
              "      <th>Category</th>\n",
              "      <th>Calories</th>\n",
              "      <th>Fat Calories</th>\n",
              "      <th>Fat (g)</th>\n",
              "      <th>Saturated Fat (g)</th>\n",
              "      <th>Trans Fat (g)</th>\n",
              "      <th>Cholesterol (mg)</th>\n",
              "      <th>Sodium (mg)</th>\n",
              "      <th>Total Carb (g)</th>\n",
              "      <th>Dietary Fiber (g)</th>\n",
              "      <th>Sugars (g)</th>\n",
              "      <th>Protein (g)</th>\n",
              "      <th>Weight Watchers</th>\n",
              "      <th>cluster</th>\n",
              "    </tr>\n",
              "  </thead>\n",
              "  <tbody>\n",
              "    <tr>\n",
              "      <th>7</th>\n",
              "      <td>Whopper JR.® Sandwich</td>\n",
              "      <td>Burgers</td>\n",
              "      <td>310.0</td>\n",
              "      <td>160.0</td>\n",
              "      <td>18.0</td>\n",
              "      <td>5.0</td>\n",
              "      <td>0.5</td>\n",
              "      <td>40.0</td>\n",
              "      <td>390.0</td>\n",
              "      <td>27.0</td>\n",
              "      <td>1.0</td>\n",
              "      <td>7.0</td>\n",
              "      <td>13.0</td>\n",
              "      <td>309.0</td>\n",
              "      <td>0</td>\n",
              "    </tr>\n",
              "  </tbody>\n",
              "</table>\n",
              "</div>\n",
              "    <div class=\"colab-df-buttons\">\n",
              "\n",
              "  <div class=\"colab-df-container\">\n",
              "    <button class=\"colab-df-convert\" onclick=\"convertToInteractive('df-d647436d-2b44-494e-aeaa-320271518c76')\"\n",
              "            title=\"Convert this dataframe to an interactive table.\"\n",
              "            style=\"display:none;\">\n",
              "\n",
              "  <svg xmlns=\"http://www.w3.org/2000/svg\" height=\"24px\" viewBox=\"0 -960 960 960\">\n",
              "    <path d=\"M120-120v-720h720v720H120Zm60-500h600v-160H180v160Zm220 220h160v-160H400v160Zm0 220h160v-160H400v160ZM180-400h160v-160H180v160Zm440 0h160v-160H620v160ZM180-180h160v-160H180v160Zm440 0h160v-160H620v160Z\"/>\n",
              "  </svg>\n",
              "    </button>\n",
              "\n",
              "  <style>\n",
              "    .colab-df-container {\n",
              "      display:flex;\n",
              "      gap: 12px;\n",
              "    }\n",
              "\n",
              "    .colab-df-convert {\n",
              "      background-color: #E8F0FE;\n",
              "      border: none;\n",
              "      border-radius: 50%;\n",
              "      cursor: pointer;\n",
              "      display: none;\n",
              "      fill: #1967D2;\n",
              "      height: 32px;\n",
              "      padding: 0 0 0 0;\n",
              "      width: 32px;\n",
              "    }\n",
              "\n",
              "    .colab-df-convert:hover {\n",
              "      background-color: #E2EBFA;\n",
              "      box-shadow: 0px 1px 2px rgba(60, 64, 67, 0.3), 0px 1px 3px 1px rgba(60, 64, 67, 0.15);\n",
              "      fill: #174EA6;\n",
              "    }\n",
              "\n",
              "    .colab-df-buttons div {\n",
              "      margin-bottom: 4px;\n",
              "    }\n",
              "\n",
              "    [theme=dark] .colab-df-convert {\n",
              "      background-color: #3B4455;\n",
              "      fill: #D2E3FC;\n",
              "    }\n",
              "\n",
              "    [theme=dark] .colab-df-convert:hover {\n",
              "      background-color: #434B5C;\n",
              "      box-shadow: 0px 1px 3px 1px rgba(0, 0, 0, 0.15);\n",
              "      filter: drop-shadow(0px 1px 2px rgba(0, 0, 0, 0.3));\n",
              "      fill: #FFFFFF;\n",
              "    }\n",
              "  </style>\n",
              "\n",
              "    <script>\n",
              "      const buttonEl =\n",
              "        document.querySelector('#df-d647436d-2b44-494e-aeaa-320271518c76 button.colab-df-convert');\n",
              "      buttonEl.style.display =\n",
              "        google.colab.kernel.accessAllowed ? 'block' : 'none';\n",
              "\n",
              "      async function convertToInteractive(key) {\n",
              "        const element = document.querySelector('#df-d647436d-2b44-494e-aeaa-320271518c76');\n",
              "        const dataTable =\n",
              "          await google.colab.kernel.invokeFunction('convertToInteractive',\n",
              "                                                    [key], {});\n",
              "        if (!dataTable) return;\n",
              "\n",
              "        const docLinkHtml = 'Like what you see? Visit the ' +\n",
              "          '<a target=\"_blank\" href=https://colab.research.google.com/notebooks/data_table.ipynb>data table notebook</a>'\n",
              "          + ' to learn more about interactive tables.';\n",
              "        element.innerHTML = '';\n",
              "        dataTable['output_type'] = 'display_data';\n",
              "        await google.colab.output.renderOutput(dataTable, element);\n",
              "        const docLink = document.createElement('div');\n",
              "        docLink.innerHTML = docLinkHtml;\n",
              "        element.appendChild(docLink);\n",
              "      }\n",
              "    </script>\n",
              "  </div>\n",
              "\n",
              "    </div>\n",
              "  </div>\n"
            ],
            "text/plain": [
              "                    Item Category  Calories  Fat Calories  Fat (g)  \\\n",
              "7  Whopper JR.® Sandwich  Burgers     310.0         160.0     18.0   \n",
              "\n",
              "   Saturated Fat (g)  Trans Fat (g)  Cholesterol (mg)  Sodium (mg)  \\\n",
              "7                5.0            0.5              40.0        390.0   \n",
              "\n",
              "   Total Carb (g)  Dietary Fiber (g)  Sugars (g)  Protein (g)  \\\n",
              "7            27.0                1.0         7.0         13.0   \n",
              "\n",
              "   Weight Watchers  cluster  \n",
              "7            309.0        0  "
            ]
          },
          "execution_count": 235,
          "metadata": {},
          "output_type": "execute_result"
        }
      ],
      "source": [
        "rCluster1 = data[data['cluster'] == 0]\n",
        "rCluster1.head(1)"
      ]
    },
    {
      "cell_type": "code",
      "execution_count": 236,
      "metadata": {
        "colab": {
          "base_uri": "https://localhost:8080/",
          "height": 133
        },
        "id": "5pUGvrAcGuxN",
        "outputId": "5e3bbca9-5db9-4774-dac2-cd2f56dcdd32"
      },
      "outputs": [
        {
          "data": {
            "application/vnd.google.colaboratory.intrinsic+json": {
              "summary": "{\n  \"name\": \"rCluster2\",\n  \"rows\": 31,\n  \"fields\": [\n    {\n      \"column\": \"Item\",\n      \"properties\": {\n        \"dtype\": \"string\",\n        \"num_unique_values\": 31,\n        \"samples\": [\n          \"NY Ultimate Platter (Regional menu item)\",\n          \"Crispy Chicken Sandwich\",\n          \"Double CROISSAN\\u2019WICH\\u00ae with Sausage\"\n        ],\n        \"semantic_type\": \"\",\n        \"description\": \"\"\n      }\n    },\n    {\n      \"column\": \"Category\",\n      \"properties\": {\n        \"dtype\": \"category\",\n        \"num_unique_values\": 3,\n        \"samples\": [\n          \"Burgers\",\n          \"Chicken\",\n          \"Breakfast\"\n        ],\n        \"semantic_type\": \"\",\n        \"description\": \"\"\n      }\n    },\n    {\n      \"column\": \"Calories\",\n      \"properties\": {\n        \"dtype\": \"number\",\n        \"std\": 201.11303193205362,\n        \"min\": 500.0,\n        \"max\": 1220.0,\n        \"num_unique_values\": 23,\n        \"samples\": [\n          860.0,\n          580.0,\n          660.0\n        ],\n        \"semantic_type\": \"\",\n        \"description\": \"\"\n      }\n    },\n    {\n      \"column\": \"Fat Calories\",\n      \"properties\": {\n        \"dtype\": \"number\",\n        \"std\": 142.40106922396697,\n        \"min\": 250.0,\n        \"max\": 750.0,\n        \"num_unique_values\": 25,\n        \"samples\": [\n          750.0,\n          440.0,\n          360.0\n        ],\n        \"semantic_type\": \"\",\n        \"description\": \"\"\n      }\n    },\n    {\n      \"column\": \"Fat (g)\",\n      \"properties\": {\n        \"dtype\": \"number\",\n        \"std\": 15.75518347883048,\n        \"min\": 28.0,\n        \"max\": 84.0,\n        \"num_unique_values\": 24,\n        \"samples\": [\n          84.0,\n          52.0,\n          40.0\n        ],\n        \"semantic_type\": \"\",\n        \"description\": \"\"\n      }\n    },\n    {\n      \"column\": \"Saturated Fat (g)\",\n      \"properties\": {\n        \"dtype\": \"number\",\n        \"std\": 8.159333991374277,\n        \"min\": 4.5,\n        \"max\": 33.0,\n        \"num_unique_values\": 18,\n        \"samples\": [\n          12.0,\n          16.0,\n          33.0\n        ],\n        \"semantic_type\": \"\",\n        \"description\": \"\"\n      }\n    },\n    {\n      \"column\": \"Trans Fat (g)\",\n      \"properties\": {\n        \"dtype\": \"number\",\n        \"std\": 1.4982068134653437,\n        \"min\": 0.0,\n        \"max\": 4.5,\n        \"num_unique_values\": 9,\n        \"samples\": [\n          1.0,\n          2.0,\n          3.5\n        ],\n        \"semantic_type\": \"\",\n        \"description\": \"\"\n      }\n    },\n    {\n      \"column\": \"Cholesterol (mg)\",\n      \"properties\": {\n        \"dtype\": \"number\",\n        \"std\": 107.78014260421511,\n        \"min\": 0.0,\n        \"max\": 390.0,\n        \"num_unique_values\": 25,\n        \"samples\": [\n          235.0,\n          95.0,\n          90.0\n        ],\n        \"semantic_type\": \"\",\n        \"description\": \"\"\n      }\n    },\n    {\n      \"column\": \"Sodium (mg)\",\n      \"properties\": {\n        \"dtype\": \"number\",\n        \"std\": 443.7983655302392,\n        \"min\": 980.0,\n        \"max\": 2840.0,\n        \"num_unique_values\": 28,\n        \"samples\": [\n          1310.0,\n          1760.0,\n          1930.0\n        ],\n        \"semantic_type\": \"\",\n        \"description\": \"\"\n      }\n    },\n    {\n      \"column\": \"Total Carb (g)\",\n      \"properties\": {\n        \"dtype\": \"number\",\n        \"std\": 15.28271213896868,\n        \"min\": 31.0,\n        \"max\": 110.0,\n        \"num_unique_values\": 18,\n        \"samples\": [\n          49.0,\n          50.0,\n          60.0\n        ],\n        \"semantic_type\": \"\",\n        \"description\": \"\"\n      }\n    },\n    {\n      \"column\": \"Dietary Fiber (g)\",\n      \"properties\": {\n        \"dtype\": \"number\",\n        \"std\": 2.0770119148968926,\n        \"min\": 1.0,\n        \"max\": 9.0,\n        \"num_unique_values\": 7,\n        \"samples\": [\n          2.0,\n          1.0,\n          5.0\n        ],\n        \"semantic_type\": \"\",\n        \"description\": \"\"\n      }\n    },\n    {\n      \"column\": \"Sugars (g)\",\n      \"properties\": {\n        \"dtype\": \"number\",\n        \"std\": 8.682821998029349,\n        \"min\": 0.0,\n        \"max\": 40.0,\n        \"num_unique_values\": 14,\n        \"samples\": [\n          4.0,\n          31.0,\n          11.0\n        ],\n        \"semantic_type\": \"\",\n        \"description\": \"\"\n      }\n    },\n    {\n      \"column\": \"Protein (g)\",\n      \"properties\": {\n        \"dtype\": \"number\",\n        \"std\": 17.405906796195637,\n        \"min\": 4.0,\n        \"max\": 71.0,\n        \"num_unique_values\": 21,\n        \"samples\": [\n          28.0,\n          24.0,\n          40.0\n        ],\n        \"semantic_type\": \"\",\n        \"description\": \"\"\n      }\n    },\n    {\n      \"column\": \"Weight Watchers\",\n      \"properties\": {\n        \"dtype\": \"number\",\n        \"std\": 194.35405559115864,\n        \"min\": 503.0,\n        \"max\": 1192.0,\n        \"num_unique_values\": 31,\n        \"samples\": [\n          918.0,\n          662.0,\n          706.0\n        ],\n        \"semantic_type\": \"\",\n        \"description\": \"\"\n      }\n    },\n    {\n      \"column\": \"cluster\",\n      \"properties\": {\n        \"dtype\": \"int32\",\n        \"num_unique_values\": 1,\n        \"samples\": [\n          1\n        ],\n        \"semantic_type\": \"\",\n        \"description\": \"\"\n      }\n    }\n  ]\n}",
              "type": "dataframe",
              "variable_name": "rCluster2"
            },
            "text/html": [
              "\n",
              "  <div id=\"df-6f3db817-442d-4993-9e76-f60a4d2023a9\" class=\"colab-df-container\">\n",
              "    <div>\n",
              "<style scoped>\n",
              "    .dataframe tbody tr th:only-of-type {\n",
              "        vertical-align: middle;\n",
              "    }\n",
              "\n",
              "    .dataframe tbody tr th {\n",
              "        vertical-align: top;\n",
              "    }\n",
              "\n",
              "    .dataframe thead th {\n",
              "        text-align: right;\n",
              "    }\n",
              "</style>\n",
              "<table border=\"1\" class=\"dataframe\">\n",
              "  <thead>\n",
              "    <tr style=\"text-align: right;\">\n",
              "      <th></th>\n",
              "      <th>Item</th>\n",
              "      <th>Category</th>\n",
              "      <th>Calories</th>\n",
              "      <th>Fat Calories</th>\n",
              "      <th>Fat (g)</th>\n",
              "      <th>Saturated Fat (g)</th>\n",
              "      <th>Trans Fat (g)</th>\n",
              "      <th>Cholesterol (mg)</th>\n",
              "      <th>Sodium (mg)</th>\n",
              "      <th>Total Carb (g)</th>\n",
              "      <th>Dietary Fiber (g)</th>\n",
              "      <th>Sugars (g)</th>\n",
              "      <th>Protein (g)</th>\n",
              "      <th>Weight Watchers</th>\n",
              "      <th>cluster</th>\n",
              "    </tr>\n",
              "  </thead>\n",
              "  <tbody>\n",
              "    <tr>\n",
              "      <th>0</th>\n",
              "      <td>Whopper® Sandwich</td>\n",
              "      <td>Burgers</td>\n",
              "      <td>660.0</td>\n",
              "      <td>360.0</td>\n",
              "      <td>40.0</td>\n",
              "      <td>12.0</td>\n",
              "      <td>1.5</td>\n",
              "      <td>90.0</td>\n",
              "      <td>980.0</td>\n",
              "      <td>49.0</td>\n",
              "      <td>2.0</td>\n",
              "      <td>11.0</td>\n",
              "      <td>28.0</td>\n",
              "      <td>655.0</td>\n",
              "      <td>1</td>\n",
              "    </tr>\n",
              "  </tbody>\n",
              "</table>\n",
              "</div>\n",
              "    <div class=\"colab-df-buttons\">\n",
              "\n",
              "  <div class=\"colab-df-container\">\n",
              "    <button class=\"colab-df-convert\" onclick=\"convertToInteractive('df-6f3db817-442d-4993-9e76-f60a4d2023a9')\"\n",
              "            title=\"Convert this dataframe to an interactive table.\"\n",
              "            style=\"display:none;\">\n",
              "\n",
              "  <svg xmlns=\"http://www.w3.org/2000/svg\" height=\"24px\" viewBox=\"0 -960 960 960\">\n",
              "    <path d=\"M120-120v-720h720v720H120Zm60-500h600v-160H180v160Zm220 220h160v-160H400v160Zm0 220h160v-160H400v160ZM180-400h160v-160H180v160Zm440 0h160v-160H620v160ZM180-180h160v-160H180v160Zm440 0h160v-160H620v160Z\"/>\n",
              "  </svg>\n",
              "    </button>\n",
              "\n",
              "  <style>\n",
              "    .colab-df-container {\n",
              "      display:flex;\n",
              "      gap: 12px;\n",
              "    }\n",
              "\n",
              "    .colab-df-convert {\n",
              "      background-color: #E8F0FE;\n",
              "      border: none;\n",
              "      border-radius: 50%;\n",
              "      cursor: pointer;\n",
              "      display: none;\n",
              "      fill: #1967D2;\n",
              "      height: 32px;\n",
              "      padding: 0 0 0 0;\n",
              "      width: 32px;\n",
              "    }\n",
              "\n",
              "    .colab-df-convert:hover {\n",
              "      background-color: #E2EBFA;\n",
              "      box-shadow: 0px 1px 2px rgba(60, 64, 67, 0.3), 0px 1px 3px 1px rgba(60, 64, 67, 0.15);\n",
              "      fill: #174EA6;\n",
              "    }\n",
              "\n",
              "    .colab-df-buttons div {\n",
              "      margin-bottom: 4px;\n",
              "    }\n",
              "\n",
              "    [theme=dark] .colab-df-convert {\n",
              "      background-color: #3B4455;\n",
              "      fill: #D2E3FC;\n",
              "    }\n",
              "\n",
              "    [theme=dark] .colab-df-convert:hover {\n",
              "      background-color: #434B5C;\n",
              "      box-shadow: 0px 1px 3px 1px rgba(0, 0, 0, 0.15);\n",
              "      filter: drop-shadow(0px 1px 2px rgba(0, 0, 0, 0.3));\n",
              "      fill: #FFFFFF;\n",
              "    }\n",
              "  </style>\n",
              "\n",
              "    <script>\n",
              "      const buttonEl =\n",
              "        document.querySelector('#df-6f3db817-442d-4993-9e76-f60a4d2023a9 button.colab-df-convert');\n",
              "      buttonEl.style.display =\n",
              "        google.colab.kernel.accessAllowed ? 'block' : 'none';\n",
              "\n",
              "      async function convertToInteractive(key) {\n",
              "        const element = document.querySelector('#df-6f3db817-442d-4993-9e76-f60a4d2023a9');\n",
              "        const dataTable =\n",
              "          await google.colab.kernel.invokeFunction('convertToInteractive',\n",
              "                                                    [key], {});\n",
              "        if (!dataTable) return;\n",
              "\n",
              "        const docLinkHtml = 'Like what you see? Visit the ' +\n",
              "          '<a target=\"_blank\" href=https://colab.research.google.com/notebooks/data_table.ipynb>data table notebook</a>'\n",
              "          + ' to learn more about interactive tables.';\n",
              "        element.innerHTML = '';\n",
              "        dataTable['output_type'] = 'display_data';\n",
              "        await google.colab.output.renderOutput(dataTable, element);\n",
              "        const docLink = document.createElement('div');\n",
              "        docLink.innerHTML = docLinkHtml;\n",
              "        element.appendChild(docLink);\n",
              "      }\n",
              "    </script>\n",
              "  </div>\n",
              "\n",
              "    </div>\n",
              "  </div>\n"
            ],
            "text/plain": [
              "                Item Category  Calories  Fat Calories  Fat (g)  \\\n",
              "0  Whopper® Sandwich  Burgers     660.0         360.0     40.0   \n",
              "\n",
              "   Saturated Fat (g)  Trans Fat (g)  Cholesterol (mg)  Sodium (mg)  \\\n",
              "0               12.0            1.5              90.0        980.0   \n",
              "\n",
              "   Total Carb (g)  Dietary Fiber (g)  Sugars (g)  Protein (g)  \\\n",
              "0            49.0                2.0        11.0         28.0   \n",
              "\n",
              "   Weight Watchers  cluster  \n",
              "0            655.0        1  "
            ]
          },
          "execution_count": 236,
          "metadata": {},
          "output_type": "execute_result"
        }
      ],
      "source": [
        "rCluster2 = data[data['cluster'] == 1]\n",
        "rCluster2.head(1)"
      ]
    },
    {
      "cell_type": "code",
      "execution_count": null,
      "metadata": {
        "id": "JpSU1iKXYyQr"
      },
      "outputs": [],
      "source": []
    },
    {
      "cell_type": "markdown",
      "metadata": {
        "id": "PSbCjiLicqNe"
      },
      "source": [
        "### **Métrica Silhouette Score**\n",
        "https://scikit-learn.org/stable/modules/generated/sklearn.metrics.silhouette_score.html\n",
        "\n",
        "Calcule el coeficiente de silueta medio de todas las muestras."
      ]
    },
    {
      "cell_type": "code",
      "execution_count": 232,
      "metadata": {
        "colab": {
          "base_uri": "https://localhost:8080/"
        },
        "id": "6Oj1VfZgbLii",
        "outputId": "ed25ee21-19d8-46ad-d99a-2f81177a4c87"
      },
      "outputs": [
        {
          "data": {
            "text/plain": [
              "0.5292698207237178"
            ]
          },
          "execution_count": 232,
          "metadata": {},
          "output_type": "execute_result"
        }
      ],
      "source": [
        "silhouette_score(X_std, y_kmeans)"
      ]
    },
    {
      "cell_type": "markdown",
      "metadata": {
        "id": "KIAitqsPc21l"
      },
      "source": [
        "### **Métrica  Davies-Bouldin Index**\n",
        "\n",
        "Es una métrica de validación que se utiliza para evaluar modelos de agrupación.\n",
        "\n",
        "https://www.geeksforgeeks.org/davies-bouldin-index/"
      ]
    },
    {
      "cell_type": "code",
      "execution_count": 233,
      "metadata": {
        "colab": {
          "base_uri": "https://localhost:8080/"
        },
        "id": "z2G4xs_MYyNT",
        "outputId": "aed92e12-81fc-428b-c010-f2763bd014c7"
      },
      "outputs": [
        {
          "data": {
            "text/plain": [
              "0.6861412675645467"
            ]
          },
          "execution_count": 233,
          "metadata": {},
          "output_type": "execute_result"
        }
      ],
      "source": [
        "from sklearn.metrics import davies_bouldin_score\n",
        "davies_bouldin_score(X_std, y_kmeans)"
      ]
    },
    {
      "cell_type": "code",
      "execution_count": null,
      "metadata": {
        "id": "-xusPEqHg2KF"
      },
      "outputs": [],
      "source": []
    },
    {
      "cell_type": "code",
      "execution_count": 241,
      "metadata": {
        "id": "JYYbNV_ag2B-"
      },
      "outputs": [],
      "source": []
    },
    {
      "cell_type": "markdown",
      "metadata": {
        "id": "GIqZs9x2g06f"
      },
      "source": [
        "## **DBSCAN**"
      ]
    },
    {
      "cell_type": "code",
      "execution_count": 238,
      "metadata": {
        "colab": {
          "base_uri": "https://localhost:8080/"
        },
        "id": "7AcZgLirg0t_",
        "outputId": "8550c152-2f2d-4efa-88d4-66dd70b85fe8"
      },
      "outputs": [
        {
          "data": {
            "text/plain": [
              "array([ 0,  0,  0,  0,  0,  0,  0,  1,  0,  0,  0,  0,  0,  0,  0,  1,  1,\n",
              "        1,  1,  0,  1,  1,  0,  0,  0,  0,  0,  1,  1,  1,  1,  1,  0,  1,\n",
              "        1,  1,  0,  1,  1,  0,  1,  1,  1,  1,  1,  1,  1,  1,  1,  1,  1,\n",
              "        1,  1,  1,  1,  1,  1,  1, -1, -1, -1, -1,  1,  0,  0,  1,  0,  1,\n",
              "        1,  1,  1, -1,  1,  1,  1,  1,  1])"
            ]
          },
          "execution_count": 238,
          "metadata": {},
          "output_type": "execute_result"
        }
      ],
      "source": [
        "from sklearn.cluster import DBSCAN\n",
        "import numpy as np\n",
        "clustering = DBSCAN().fit(X_std)\n",
        "labels=clustering.labels_\n",
        "labels"
      ]
    },
    {
      "cell_type": "code",
      "execution_count": 239,
      "metadata": {
        "colab": {
          "base_uri": "https://localhost:8080/",
          "height": 449
        },
        "id": "_hsYISoIivER",
        "outputId": "ac2699a1-37e8-43e3-ce2e-4fc3bbcef228"
      },
      "outputs": [
        {
          "data": {
            "image/png": "[encoded data removed]",
            "text/plain": [
              "<Figure size 640x480 with 1 Axes>"
            ]
          },
          "metadata": {},
          "output_type": "display_data"
        }
      ],
      "source": [
        "#Visualizando los clusters\n",
        "plt.scatter(X[labels==-1, 0], X[labels==-1, 1], s=100, c='red', label ='Cluster 1')\n",
        "plt.scatter(X[labels==0, 0], X[labels==0, 1], s=100, c='blue', label ='Cluster 2')\n",
        "plt.scatter(X[labels==1, 0], X[labels==1, 1], s=100, c='green', label ='Cluster 3')\n",
        "\n",
        "\n",
        "#Traza el centroide. Esta vez vamos a utilizar los centros de cluster.\n",
        "#atributo que devuelve aquí las coordenadas del centroide.\n",
        "plt.legend()\n",
        "plt.xlabel('Grasas Total (g)')\n",
        "plt.ylabel('Carbohidratos totales (g)')\n",
        "plt.show()"
      ]
    },
    {
      "cell_type": "markdown",
      "metadata": {
        "id": "VmZrfJOtlCQ_"
      },
      "source": [
        "### **Métrica Silhouette Score**\n",
        "https://scikit-learn.org/stable/modules/generated/sklearn.metrics.silhouette_score.html\n",
        "\n",
        "Calcule el coeficiente de silueta medio de todas las muestras."
      ]
    },
    {
      "cell_type": "code",
      "execution_count": 240,
      "metadata": {
        "colab": {
          "base_uri": "https://localhost:8080/"
        },
        "id": "ltfJKpk0kY1W",
        "outputId": "a73cae51-c4b1-4b62-957b-d56cea07aaa9"
      },
      "outputs": [
        {
          "data": {
            "text/plain": [
              "0.4653539616416159"
            ]
          },
          "execution_count": 240,
          "metadata": {},
          "output_type": "execute_result"
        }
      ],
      "source": [
        "silhouette_score(X_std, labels)"
      ]
    },
    {
      "cell_type": "markdown",
      "metadata": {
        "id": "Mkz0kwNjlReY"
      },
      "source": [
        "### **Métrica  Davies-Bouldin Index**\n",
        "\n",
        "Es una métrica de validación que se utiliza para evaluar modelos de agrupación.\n",
        "\n",
        "https://www.geeksforgeeks.org/davies-bouldin-index/"
      ]
    },
    {
      "cell_type": "code",
      "execution_count": 241,
      "metadata": {
        "colab": {
          "base_uri": "https://localhost:8080/"
        },
        "id": "jM9rWmv9lMWt",
        "outputId": "5981891c-1178-4cb3-bf61-e0207cbf71ef"
      },
      "outputs": [
        {
          "data": {
            "text/plain": [
              "1.1864415000593997"
            ]
          },
          "execution_count": 241,
          "metadata": {},
          "output_type": "execute_result"
        }
      ],
      "source": [
        "from sklearn.metrics import davies_bouldin_score\n",
        "davies_bouldin_score(X_std, labels)"
      ]
    },
    {
      "cell_type": "code",
      "execution_count": null,
      "metadata": {
        "id": "J3fy8ioUlfUU"
      },
      "outputs": [],
      "source": []
    },
    {
      "cell_type": "code",
      "execution_count": null,
      "metadata": {
        "id": "S7Iqu-8Xlgib"
      },
      "outputs": [],
      "source": []
    },
    {
      "cell_type": "markdown",
      "metadata": {
        "id": "B0EvPbeklkGz"
      },
      "source": [
        "## **Agglomerative Clustering**\n",
        "https://scikit-learn.org/stable/modules/generated/sklearn.cluster.AgglomerativeClustering.html"
      ]
    },
    {
      "cell_type": "code",
      "execution_count": 215,
      "metadata": {
        "colab": {
          "base_uri": "https://localhost:8080/",
          "height": 74
        },
        "id": "AjDtVZKOlmBk",
        "outputId": "29fc529b-38b6-4712-8341-6cfac342b07c"
      },
      "outputs": [
        {
          "data": {
            "text/html": [
              "<style>#sk-container-id-1 {color: black;background-color: white;}#sk-container-id-1 pre{padding: 0;}#sk-container-id-1 div.sk-toggleable {background-color: white;}#sk-container-id-1 label.sk-toggleable__label {cursor: pointer;display: block;width: 100%;margin-bottom: 0;padding: 0.3em;box-sizing: border-box;text-align: center;}#sk-container-id-1 label.sk-toggleable__label-arrow:before {content: \"▸\";float: left;margin-right: 0.25em;color: #696969;}#sk-container-id-1 label.sk-toggleable__label-arrow:hover:before {color: black;}#sk-container-id-1 div.sk-estimator:hover label.sk-toggleable__label-arrow:before {color: black;}#sk-container-id-1 div.sk-toggleable__content {max-height: 0;max-width: 0;overflow: hidden;text-align: left;background-color: #f0f8ff;}#sk-container-id-1 div.sk-toggleable__content pre {margin: 0.2em;color: black;border-radius: 0.25em;background-color: #f0f8ff;}#sk-container-id-1 input.sk-toggleable__control:checked~div.sk-toggleable__content {max-height: 200px;max-width: 100%;overflow: auto;}#sk-container-id-1 input.sk-toggleable__control:checked~label.sk-toggleable__label-arrow:before {content: \"▾\";}#sk-container-id-1 div.sk-estimator input.sk-toggleable__control:checked~label.sk-toggleable__label {background-color: #d4ebff;}#sk-container-id-1 div.sk-label input.sk-toggleable__control:checked~label.sk-toggleable__label {background-color: #d4ebff;}#sk-container-id-1 input.sk-hidden--visually {border: 0;clip: rect(1px 1px 1px 1px);clip: rect(1px, 1px, 1px, 1px);height: 1px;margin: -1px;overflow: hidden;padding: 0;position: absolute;width: 1px;}#sk-container-id-1 div.sk-estimator {font-family: monospace;background-color: #f0f8ff;border: 1px dotted black;border-radius: 0.25em;box-sizing: border-box;margin-bottom: 0.5em;}#sk-container-id-1 div.sk-estimator:hover {background-color: #d4ebff;}#sk-container-id-1 div.sk-parallel-item::after {content: \"\";width: 100%;border-bottom: 1px solid gray;flex-grow: 1;}#sk-container-id-1 div.sk-label:hover label.sk-toggleable__label {background-color: #d4ebff;}#sk-container-id-1 div.sk-serial::before {content: \"\";position: absolute;border-left: 1px solid gray;box-sizing: border-box;top: 0;bottom: 0;left: 50%;z-index: 0;}#sk-container-id-1 div.sk-serial {display: flex;flex-direction: column;align-items: center;background-color: white;padding-right: 0.2em;padding-left: 0.2em;position: relative;}#sk-container-id-1 div.sk-item {position: relative;z-index: 1;}#sk-container-id-1 div.sk-parallel {display: flex;align-items: stretch;justify-content: center;background-color: white;position: relative;}#sk-container-id-1 div.sk-item::before, #sk-container-id-1 div.sk-parallel-item::before {content: \"\";position: absolute;border-left: 1px solid gray;box-sizing: border-box;top: 0;bottom: 0;left: 50%;z-index: -1;}#sk-container-id-1 div.sk-parallel-item {display: flex;flex-direction: column;z-index: 1;position: relative;background-color: white;}#sk-container-id-1 div.sk-parallel-item:first-child::after {align-self: flex-end;width: 50%;}#sk-container-id-1 div.sk-parallel-item:last-child::after {align-self: flex-start;width: 50%;}#sk-container-id-1 div.sk-parallel-item:only-child::after {width: 0;}#sk-container-id-1 div.sk-dashed-wrapped {border: 1px dashed gray;margin: 0 0.4em 0.5em 0.4em;box-sizing: border-box;padding-bottom: 0.4em;background-color: white;}#sk-container-id-1 div.sk-label label {font-family: monospace;font-weight: bold;display: inline-block;line-height: 1.2em;}#sk-container-id-1 div.sk-label-container {text-align: center;}#sk-container-id-1 div.sk-container {/* jupyter's `normalize.less` sets `[hidden] { display: none; }` but bootstrap.min.css set `[hidden] { display: none !important; }` so we also need the `!important` here to be able to override the default hidden behavior on the sphinx rendered scikit-learn.org. See: https://github.com/scikit-learn/scikit-learn/issues/21755 */display: inline-block !important;position: relative;}#sk-container-id-1 div.sk-text-repr-fallback {display: none;}</style><div id=\"sk-container-id-1\" class=\"sk-top-container\"><div class=\"sk-text-repr-fallback\"><pre>AgglomerativeClustering()</pre><b>In a Jupyter environment, please rerun this cell to show the HTML representation or trust the notebook. <br />On GitHub, the HTML representation is unable to render, please try loading this page with nbviewer.org.</b></div><div class=\"sk-container\" hidden><div class=\"sk-item\"><div class=\"sk-estimator sk-toggleable\"><input class=\"sk-toggleable__control sk-hidden--visually\" id=\"sk-estimator-id-1\" type=\"checkbox\" checked><label for=\"sk-estimator-id-1\" class=\"sk-toggleable__label sk-toggleable__label-arrow\">AgglomerativeClustering</label><div class=\"sk-toggleable__content\"><pre>AgglomerativeClustering()</pre></div></div></div></div></div>"
            ],
            "text/plain": [
              "AgglomerativeClustering()"
            ]
          },
          "execution_count": 215,
          "metadata": {},
          "output_type": "execute_result"
        }
      ],
      "source": [
        "from sklearn.cluster import AgglomerativeClustering\n",
        "import numpy as np\n",
        "clustering = AgglomerativeClustering().fit(X_std)\n",
        "clustering"
      ]
    },
    {
      "cell_type": "code",
      "execution_count": 216,
      "metadata": {
        "colab": {
          "base_uri": "https://localhost:8080/"
        },
        "id": "E38Uvouhl_BP",
        "outputId": "b20d295a-859b-4015-b1c9-ded7331bef3c"
      },
      "outputs": [
        {
          "data": {
            "text/plain": [
              "array([0, 0, 0, 0, 0, 0, 0, 1, 0, 0, 0, 0, 0, 0, 0, 1, 1, 1, 1, 0, 1, 1,\n",
              "       0, 0, 0, 0, 0, 1, 0, 1, 1, 1, 0, 1, 1, 1, 0, 1, 1, 0, 1, 1, 1, 1,\n",
              "       1, 1, 1, 1, 1, 1, 1, 1, 1, 1, 1, 1, 1, 1, 0, 0, 0, 0, 1, 0, 0, 1,\n",
              "       0, 1, 1, 1, 1, 1, 1, 1, 1, 1, 1])"
            ]
          },
          "execution_count": 216,
          "metadata": {},
          "output_type": "execute_result"
        }
      ],
      "source": [
        "labels1=clustering.labels_\n",
        "labels1"
      ]
    },
    {
      "cell_type": "code",
      "execution_count": 218,
      "metadata": {
        "colab": {
          "base_uri": "https://localhost:8080/",
          "height": 449
        },
        "id": "7vKs-qILmEWp",
        "outputId": "f8d7772a-4830-4b94-a877-e11ce20a5fba"
      },
      "outputs": [
        {
          "data": {
            "image/png": "[encoded data removed]",
            "text/plain": [
              "<Figure size 640x480 with 1 Axes>"
            ]
          },
          "metadata": {},
          "output_type": "display_data"
        }
      ],
      "source": [
        "#Visualizando los clusters\n",
        "plt.scatter(X[labels1==0, 0], X[labels1==0, 1], s=100, c='blue', label ='Cluster 1')\n",
        "plt.scatter(X[labels1==1, 0], X[labels1==1, 1], s=100, c='green', label ='Cluster 2')\n",
        "\n",
        "\n",
        "#Traza el centroide. Esta vez vamos a utilizar los centros de cluster.\n",
        "#atributo que devuelve aquí las coordenadas del centroide.\n",
        "plt.legend()\n",
        "plt.xlabel('Grasas Total (g)')\n",
        "plt.ylabel('Carbohidratos totales (g)')\n",
        "plt.show()"
      ]
    },
    {
      "cell_type": "markdown",
      "metadata": {
        "id": "RnICOyfrm8of"
      },
      "source": [
        "### **Métrica Silhouette Score**\n",
        "https://scikit-learn.org/stable/modules/generated/sklearn.metrics.silhouette_score.html\n",
        "\n",
        "Calcule el coeficiente de silueta medio de todas las muestras."
      ]
    },
    {
      "cell_type": "code",
      "execution_count": 219,
      "metadata": {
        "colab": {
          "base_uri": "https://localhost:8080/"
        },
        "id": "zj-FrRCfmw1B",
        "outputId": "aacb5762-ee88-48cd-ed80-19c9120e0471"
      },
      "outputs": [
        {
          "data": {
            "text/plain": [
              "0.5013492135531722"
            ]
          },
          "execution_count": 219,
          "metadata": {},
          "output_type": "execute_result"
        }
      ],
      "source": [
        "silhouette_score(X_std, labels1)"
      ]
    },
    {
      "cell_type": "markdown",
      "metadata": {
        "id": "IYRQpL_om9cI"
      },
      "source": [
        "### **Métrica  Davies-Bouldin Index**\n",
        "\n",
        "Es una métrica de validación que se utiliza para evaluar modelos de agrupación.\n",
        "\n",
        "https://www.geeksforgeeks.org/davies-bouldin-index/"
      ]
    },
    {
      "cell_type": "code",
      "execution_count": 220,
      "metadata": {
        "colab": {
          "base_uri": "https://localhost:8080/"
        },
        "id": "ehdqs7icm1u9",
        "outputId": "2098f25c-d5f7-4fd6-e306-f65a32978dc8"
      },
      "outputs": [
        {
          "data": {
            "text/plain": [
              "0.7290251752161105"
            ]
          },
          "execution_count": 220,
          "metadata": {},
          "output_type": "execute_result"
        }
      ],
      "source": [
        "from sklearn.metrics import davies_bouldin_score\n",
        "davies_bouldin_score(X_std, labels1)"
      ]
    },
    {
      "cell_type": "markdown",
      "metadata": {
        "id": "04hGjbJ3n4h6"
      },
      "source": [
        "# Algoritmo de visión computacional"
      ]
    },
    {
      "cell_type": "markdown",
      "metadata": {
        "id": "eKDhmi1to5Jw"
      },
      "source": [
        "# **Imágenes de perros y gatos para clasificación**\n",
        "Este conjunto de datos abarca una colección de imágenes seleccionadas específicamente con el fin de clasificar entre perros y gatos."
      ]
    },
    {
      "cell_type": "code",
      "execution_count": 2,
      "metadata": {
        "id": "Igxp_1hHn3gn"
      },
      "outputs": [],
      "source": [
        "import tensorflow as tf\n",
        "from tensorflow import keras\n",
        "\n",
        "from tensorflow.keras import layers\n",
        "from tensorflow.keras.preprocessing.image import ImageDataGenerator\n",
        "\n",
        "import os\n",
        "import pandas as pd\n",
        "\n",
        "from matplotlib import pyplot as plt"
      ]
    },
    {
      "cell_type": "code",
      "execution_count": 13,
      "metadata": {},
      "outputs": [
        {
          "name": "stdout",
          "output_type": "stream",
          "text": [
            "Downloading data from https://storage.googleapis.com/tensorflow/keras-applications/resnet/resnet50_weights_tf_dim_ordering_tf_kernels.h5\n",
            "\u001b[1m102967424/102967424\u001b[0m \u001b[32m━━━━━━━━━━━━━━━━━━━━\u001b[0m\u001b[37m\u001b[0m \u001b[1m17s\u001b[0m 0us/step\n"
          ]
        }
      ],
      "source": [
        "from tensorflow.keras.applications.resnet50 import ResNet50, preprocess_input, decode_predictions\n",
        "model = ResNet50(weights='imagenet')\n",
        "target_size=(224, 224)"
      ]
    },
    {
      "cell_type": "code",
      "execution_count": null,
      "metadata": {},
      "outputs": [],
      "source": []
    },
    {
      "cell_type": "code",
      "execution_count": 3,
      "metadata": {
        "id": "SXEwCbVXrZSK"
      },
      "outputs": [],
      "source": [
        "Image_size = (128, 128)\n",
        "\n",
        "batch_size = 32\n",
        "epochs = 10\n",
        "channels = 3"
      ]
    },
    {
      "cell_type": "code",
      "execution_count": 7,
      "metadata": {
        "colab": {
          "base_uri": "https://localhost:8080/",
          "height": 206
        },
        "id": "uSFTo9pTsVEw",
        "outputId": "f7effdda-d790-42b2-b47b-b2170dc91bdc"
      },
      "outputs": [
        {
          "data": {
            "text/html": [
              "<div>\n",
              "<style scoped>\n",
              "    .dataframe tbody tr th:only-of-type {\n",
              "        vertical-align: middle;\n",
              "    }\n",
              "\n",
              "    .dataframe tbody tr th {\n",
              "        vertical-align: top;\n",
              "    }\n",
              "\n",
              "    .dataframe thead th {\n",
              "        text-align: right;\n",
              "    }\n",
              "</style>\n",
              "<table border=\"1\" class=\"dataframe\">\n",
              "  <thead>\n",
              "    <tr style=\"text-align: right;\">\n",
              "      <th></th>\n",
              "      <th>image</th>\n",
              "      <th>labels</th>\n",
              "    </tr>\n",
              "  </thead>\n",
              "  <tbody>\n",
              "    <tr>\n",
              "      <th>0</th>\n",
              "      <td>dog.11289.jpg</td>\n",
              "      <td>1</td>\n",
              "    </tr>\n",
              "    <tr>\n",
              "      <th>1</th>\n",
              "      <td>cat.10836.jpg</td>\n",
              "      <td>0</td>\n",
              "    </tr>\n",
              "    <tr>\n",
              "      <th>2</th>\n",
              "      <td>cat.7970.jpg</td>\n",
              "      <td>0</td>\n",
              "    </tr>\n",
              "    <tr>\n",
              "      <th>3</th>\n",
              "      <td>cat.2212.jpg</td>\n",
              "      <td>0</td>\n",
              "    </tr>\n",
              "    <tr>\n",
              "      <th>4</th>\n",
              "      <td>dog.2653.jpg</td>\n",
              "      <td>1</td>\n",
              "    </tr>\n",
              "  </tbody>\n",
              "</table>\n",
              "</div>"
            ],
            "text/plain": [
              "           image  labels\n",
              "0  dog.11289.jpg       1\n",
              "1  cat.10836.jpg       0\n",
              "2   cat.7970.jpg       0\n",
              "3   cat.2212.jpg       0\n",
              "4   dog.2653.jpg       1"
            ]
          },
          "execution_count": 7,
          "metadata": {},
          "output_type": "execute_result"
        }
      ],
      "source": [
        "data1 = pd.read_csv(\"archive\\cat_dog.csv\")\n",
        "\n",
        "data1.head()"
      ]
    },
    {
      "cell_type": "code",
      "execution_count": 8,
      "metadata": {
        "colab": {
          "base_uri": "https://localhost:8080/"
        },
        "id": "ZK1j6kWMssZa",
        "outputId": "314d8bc3-3d80-4f76-912a-e277db7f2b11"
      },
      "outputs": [
        {
          "name": "stdout",
          "output_type": "stream",
          "text": [
            "isnull: \n",
            " image     0\n",
            "labels    0\n",
            "dtype: int64\n"
          ]
        }
      ],
      "source": [
        "print(\"isnull: \\n\",data1.isnull().sum())"
      ]
    },
    {
      "cell_type": "code",
      "execution_count": 9,
      "metadata": {
        "colab": {
          "base_uri": "https://localhost:8080/"
        },
        "id": "E7LzRxKHs1l8",
        "outputId": "d7788306-8762-49d5-e370-7c5e2241364d"
      },
      "outputs": [
        {
          "name": "stdout",
          "output_type": "stream",
          "text": [
            "0\n"
          ]
        }
      ],
      "source": [
        "print(data1.duplicated().sum())"
      ]
    },
    {
      "cell_type": "code",
      "execution_count": 10,
      "metadata": {
        "colab": {
          "base_uri": "https://localhost:8080/",
          "height": 522
        },
        "id": "UkgXDNoVtQcf",
        "outputId": "b4bd5fda-6d7b-4581-d5db-675ff85336f8"
      },
      "outputs": [
        {
          "data": {
            "image/png": "[encoded data removed]",
            "text/plain": [
              "<Figure size 1000x600 with 1 Axes>"
            ]
          },
          "metadata": {},
          "output_type": "display_data"
        }
      ],
      "source": [
        "plt.figure(figsize=(10,6))\n",
        "plt.bar(data1['labels'].value_counts().index, data1['labels'].value_counts())\n",
        "plt.show()"
      ]
    },
    {
      "cell_type": "code",
      "execution_count": 3,
      "metadata": {},
      "outputs": [],
      "source": [
        "import torch\n",
        "import torchvision\n",
        "import torchvision.transforms as transforms\n",
        "from torchvision.datasets import ImageFolder\n",
        "from torch.utils.data import DataLoader\n",
        "import pandas as pd\n",
        "import os\n",
        "\n",
        "# Ruta al archivo CSV que contiene los nombres de archivo y etiquetas\n",
        "csv_file = 'archive\\cat_dog.csv'\n",
        "# Lee el archivo CSV\n",
        "df = pd.read_csv(csv_file)\n"
      ]
    },
    {
      "cell_type": "code",
      "execution_count": 21,
      "metadata": {},
      "outputs": [],
      "source": [
        "# Define las transformaciones de las imágenes\n",
        "transform = transforms.Compose([\n",
        "    transforms.Resize((224, 224)),  # Cambia el tamaño de las imágenes a 224x224\n",
        "    transforms.ToTensor(),  # Convierte las imágenes a tensores\n",
        "    transforms.Normalize((0.5, 0.5, 0.5), (0.5, 0.5, 0.5))  # Normaliza las imágenes\n",
        "])"
      ]
    },
    {
      "cell_type": "code",
      "execution_count": null,
      "metadata": {},
      "outputs": [],
      "source": [
        "import os\n",
        "data_dir = 'archive\\cat_dog'\n",
        "# Lista para almacenar las rutas de todas las imágenes\n",
        "all_images = []\n",
        "\n",
        "# Itera sobre las subcarpetas en data_dir\n",
        "for class_folder in os.listdir(data_dir):\n",
        "    class_folder_path = os.path.join(data_dir, class_folder)\n",
        "    # Verifica si el elemento es una carpeta\n",
        "    if os.path.isdir(class_folder_path):\n",
        "        # Itera sobre las imágenes dentro de la subcarpeta\n",
        "        for img_filename in os.listdir(class_folder_path):\n",
        "            # Verifica si el elemento es un archivo de imagen válido\n",
        "            if img_filename.endswith(('.jpg', '.jpeg', '.png')):\n",
        "                # Agrega la ruta completa de la imagen a la lista\n",
        "                img_path = os.path.join(class_folder_path, img_filename)\n",
        "                all_images.append(img_path)\n",
        "\n",
        "# Verifica las rutas de las imágenes recopiladas\n",
        "#print(all_images)"
      ]
    },
    {
      "cell_type": "code",
      "execution_count": 5,
      "metadata": {},
      "outputs": [],
      "source": [
        "import random\n",
        "import os\n",
        "import shutil\n",
        "\n",
        "# Barajar las imágenes\n",
        "random.shuffle(all_images)\n",
        "\n",
        "# Porcentaje de imágenes para entrenamiento y prueba\n",
        "train_percentage = 0.8\n",
        "test_percentage = 1 - train_percentage\n",
        "\n",
        "# Calcula la cantidad de imágenes para entrenamiento y prueba\n",
        "num_train_images = int(len(all_images) * train_percentage)\n",
        "num_test_images = len(all_images) - num_train_images\n",
        "\n",
        "# Divide las imágenes en conjuntos de entrenamiento y prueba\n",
        "train_images = all_images[:num_train_images]\n",
        "test_images = all_images[num_train_images:]"
      ]
    },
    {
      "cell_type": "code",
      "execution_count": 33,
      "metadata": {},
      "outputs": [
        {
          "name": "stdout",
          "output_type": "stream",
          "text": [
            "Rutas de imágenes de entrenamiento:\n",
            "archive\\cat_dog\\1\\dog.3212.jpg\n",
            "archive\\cat_dog\\0\\cat.9687.jpg\n",
            "archive\\cat_dog\\1\\dog.1124.jpg\n",
            "archive\\cat_dog\\0\\cat.5777.jpg\n",
            "archive\\cat_dog\\0\\cat.5336.jpg\n",
            "\n",
            "Rutas de imágenes de prueba:\n",
            "archive\\cat_dog\\1\\dog.12017.jpg\n",
            "archive\\cat_dog\\0\\cat.554.jpg\n",
            "archive\\cat_dog\\0\\cat.1046.jpg\n",
            "archive\\cat_dog\\1\\dog.12132.jpg\n",
            "archive\\cat_dog\\0\\cat.2409.jpg\n"
          ]
        }
      ],
      "source": [
        "print(\"Rutas de imágenes de entrenamiento:\")\n",
        "for img_path in train_images[:5]:  # Imprimir las primeras 5 rutas\n",
        "    print(img_path)\n",
        "\n",
        "print(\"\\nRutas de imágenes de prueba:\")\n",
        "for img_path in test_images[:5]:  # Imprimir las primeras 5 rutas\n",
        "    print(img_path)\n"
      ]
    },
    {
      "cell_type": "code",
      "execution_count": 39,
      "metadata": {},
      "outputs": [
        {
          "name": "stdout",
          "output_type": "stream",
          "text": [
            "Tamaño del conjunto de entrenamiento: 20000\n",
            "Tamaño del conjunto de prueba: 5000\n"
          ]
        }
      ],
      "source": [
        "train_size = len(train_images)\n",
        "test_size = len(test_images)\n",
        "\n",
        "print(\"Tamaño del conjunto de entrenamiento:\", train_size)\n",
        "print(\"Tamaño del conjunto de prueba:\", test_size)\n"
      ]
    },
    {
      "cell_type": "code",
      "execution_count": 40,
      "metadata": {},
      "outputs": [
        {
          "name": "stdout",
          "output_type": "stream",
          "text": [
            "Tamaño de all_images: 25000\n"
          ]
        }
      ],
      "source": [
        "all_images_size = len(all_images)\n",
        "print(\"Tamaño de all_images:\", all_images_size)\n"
      ]
    },
    {
      "cell_type": "code",
      "execution_count": 47,
      "metadata": {},
      "outputs": [
        {
          "name": "stdout",
          "output_type": "stream",
          "text": [
            "Clases: ['cat', 'dog']\n",
            "Tamaño del conjunto de entrenamiento: 20000\n",
            "Tamaño del conjunto de prueba: 5000\n"
          ]
        }
      ],
      "source": [
        "\n",
        "\n",
        "# Rutas a los directorios de entrenamiento y prueba\n",
        "train_dir = os.path.join('archive', 'cat_dog', 'train')\n",
        "test_dir = os.path.join('archive', 'cat_dog', 'test')\n",
        "# Define el batch size\n",
        "batch_size = 4\n",
        "\n",
        "# Define el conjunto de datos de entrenamiento\n",
        "trainset = torchvision.datasets.ImageFolder(root=train_dir, transform=transform)\n",
        "trainloader = torch.utils.data.DataLoader(trainset, batch_size=batch_size, shuffle=True, num_workers=2)\n",
        "\n",
        "# Define el conjunto de datos de prueba\n",
        "testset = torchvision.datasets.ImageFolder(root=test_dir, transform=transform)\n",
        "testloader = torch.utils.data.DataLoader(testset, batch_size=batch_size, shuffle=False, num_workers=2)\n",
        "\n",
        "# Obtener las clases\n",
        "classes = trainset.classes\n",
        "\n",
        "print(\"Clases:\", classes)\n",
        "print(\"Tamaño del conjunto de entrenamiento:\", len(trainset))\n",
        "print(\"Tamaño del conjunto de prueba:\", len(testset))\n"
      ]
    },
    {
      "cell_type": "code",
      "execution_count": 49,
      "metadata": {},
      "outputs": [
        {
          "data": {
            "image/png": "[encoded data removed]",
            "text/plain": [
              "<Figure size 640x480 with 1 Axes>"
            ]
          },
          "metadata": {},
          "output_type": "display_data"
        },
        {
          "name": "stdout",
          "output_type": "stream",
          "text": [
            "dog   dog   cat   cat  \n"
          ]
        }
      ],
      "source": [
        "import matplotlib.pyplot as plt\n",
        "import numpy as np\n",
        "\n",
        "# Define una función para mostrar una imagen\n",
        "def imshow(img):\n",
        "    # Desnormaliza la imagen\n",
        "    img = img / 2 + 0.5\n",
        "    # Convierte de Tensor a NumPy\n",
        "    npimg = img.numpy()\n",
        "    # Cambia el orden de los ejes para que sea compatible con matplotlib\n",
        "    plt.imshow(np.transpose(npimg, (1, 2, 0)))\n",
        "    # Muestra la imagen\n",
        "    plt.show()\n",
        "\n",
        "# Obtiene algunas imágenes de entrenamiento aleatorias\n",
        "dataiter = iter(trainloader)\n",
        "images, labels = next(dataiter)\n",
        "\n",
        "# Muestra las imágenes\n",
        "imshow(torchvision.utils.make_grid(images))\n",
        "# Imprime las etiquetas\n",
        "print(' '.join(f'{classes[labels[j]]:5s}' for j in range(batch_size)))\n"
      ]
    },
    {
      "cell_type": "code",
      "execution_count": 73,
      "metadata": {},
      "outputs": [],
      "source": [
        "import torch\n",
        "import torch.nn as nn\n",
        "import torch.nn.functional as F\n",
        "\n",
        "class Net(nn.Module):\n",
        "    def __init__(self):\n",
        "        super().__init__()\n",
        "        self.conv1 = nn.Conv2d(3, 6, 5)\n",
        "        self.pool = nn.MaxPool2d(2, 2)\n",
        "        self.conv2 = nn.Conv2d(6, 16, 5)\n",
        "        # Ajuste las dimensiones de las capas lineales para que sean compatibles con la salida de las capas convolucionales\n",
        "        self.fc1 = nn.Linear(16 * 53 * 53, 120)  # Ajuste el tamaño de entrada\n",
        "        self.fc2 = nn.Linear(120, 84)\n",
        "        self.fc3 = nn.Linear(84, 10)\n",
        "\n",
        "    def forward(self, x):\n",
        "        x = self.pool(F.relu(self.conv1(x)))\n",
        "        x = self.pool(F.relu(self.conv2(x)))\n",
        "        x = torch.flatten(x, 1)  # Aplanar todas las dimensiones excepto el lote\n",
        "        x = F.relu(self.fc1(x))\n",
        "        x = F.relu(self.fc2(x))\n",
        "        x = self.fc3(x)\n",
        "        return x\n",
        "\n",
        "net = Net()\n"
      ]
    },
    {
      "cell_type": "code",
      "execution_count": 74,
      "metadata": {},
      "outputs": [],
      "source": [
        "import torch.optim as optim\n",
        "\n",
        "# Definir la función de pérdida (CrossEntropyLoss para clasificación)\n",
        "criterion = nn.CrossEntropyLoss()\n",
        "\n",
        "# Definir el optimizador (SGD con impulso)\n",
        "optimizer = optim.SGD(net.parameters(), lr=0.001, momentum=0.9)\n"
      ]
    },
    {
      "cell_type": "code",
      "execution_count": 75,
      "metadata": {},
      "outputs": [
        {
          "name": "stdout",
          "output_type": "stream",
          "text": [
            "cpu\n"
          ]
        }
      ],
      "source": [
        "device = torch.device('cuda:0' if torch.cuda.is_available() else 'cpu')\n",
        "\n",
        "# Assuming that we are on a CUDA machine, this should print a CUDA device:\n",
        "\n",
        "print(device)"
      ]
    },
    {
      "cell_type": "code",
      "execution_count": 76,
      "metadata": {},
      "outputs": [
        {
          "data": {
            "text/plain": [
              "Net(\n",
              "  (conv1): Conv2d(3, 6, kernel_size=(5, 5), stride=(1, 1))\n",
              "  (pool): MaxPool2d(kernel_size=2, stride=2, padding=0, dilation=1, ceil_mode=False)\n",
              "  (conv2): Conv2d(6, 16, kernel_size=(5, 5), stride=(1, 1))\n",
              "  (fc1): Linear(in_features=44944, out_features=120, bias=True)\n",
              "  (fc2): Linear(in_features=120, out_features=84, bias=True)\n",
              "  (fc3): Linear(in_features=84, out_features=10, bias=True)\n",
              ")"
            ]
          },
          "execution_count": 76,
          "metadata": {},
          "output_type": "execute_result"
        }
      ],
      "source": [
        "net.to(device)"
      ]
    },
    {
      "cell_type": "code",
      "execution_count": 77,
      "metadata": {},
      "outputs": [
        {
          "name": "stdout",
          "output_type": "stream",
          "text": [
            "[1,  2000] pérdida: 0.735\n",
            "[1,  4000] pérdida: 0.670\n",
            "[2,  2000] pérdida: 0.611\n",
            "[2,  4000] pérdida: 0.581\n",
            "Entrenamiento terminado\n"
          ]
        }
      ],
      "source": [
        "for epoch in range(2):  # loop over the dataset multiple times\n",
        "\n",
        "    running_loss = 0.0\n",
        "    for i, data in enumerate(trainloader, 0):\n",
        "        # Obtener las entradas; los datos son una lista de [entradas, etiquetas]\n",
        "        inputs, labels = data[0].to(device), data[1].to(device)\n",
        "        \n",
        "        # Reiniciar los gradientes de los parámetros\n",
        "        optimizer.zero_grad()\n",
        "\n",
        "        # Hacer la propagación hacia adelante + hacia atrás + optimizar\n",
        "        outputs = net(inputs)\n",
        "        loss = criterion(outputs, labels)\n",
        "        loss.backward()\n",
        "        optimizer.step()\n",
        "\n",
        "        # Imprimir estadísticas\n",
        "        running_loss += loss.item()\n",
        "        if i % 2000 == 1999:    # imprimir cada 2000 mini-lotes\n",
        "            print(f'[{epoch + 1}, {i + 1:5d}] pérdida: {running_loss / 2000:.3f}')\n",
        "            running_loss = 0.0\n",
        "\n",
        "print('Entrenamiento terminado')\n",
        "\n"
      ]
    },
    {
      "cell_type": "code",
      "execution_count": 78,
      "metadata": {},
      "outputs": [],
      "source": [
        "# Define la ruta del archivo donde deseas guardar los pesos del modelo\n",
        "PATH = './cifar_net_cat_dog.pth'\n",
        "\n",
        "# Guarda los pesos del modelo en el archivo\n",
        "torch.save(net.state_dict(), PATH)\n"
      ]
    },
    {
      "cell_type": "code",
      "execution_count": 79,
      "metadata": {},
      "outputs": [
        {
          "data": {
            "image/png": "[encoded data removed]",
            "text/plain": [
              "<Figure size 640x480 with 1 Axes>"
            ]
          },
          "metadata": {},
          "output_type": "display_data"
        },
        {
          "name": "stdout",
          "output_type": "stream",
          "text": [
            "GroundTruth:  cat   cat   cat   cat  \n"
          ]
        }
      ],
      "source": [
        "dataiter = iter(testloader)\n",
        "images, labels = next(dataiter)\n",
        "\n",
        "# Mostrar imágenes\n",
        "imshow(torchvision.utils.make_grid(images))\n",
        "print('GroundTruth: ', ' '.join(f'{classes[labels[j]]:5s}' for j in range(len(images))))\n"
      ]
    },
    {
      "cell_type": "code",
      "execution_count": 80,
      "metadata": {},
      "outputs": [
        {
          "data": {
            "text/plain": [
              "<All keys matched successfully>"
            ]
          },
          "execution_count": 80,
          "metadata": {},
          "output_type": "execute_result"
        }
      ],
      "source": [
        "# Define la red neuronal\n",
        "net = Net()\n",
        "\n",
        "# Carga los pesos guardados del modelo\n",
        "net.load_state_dict(torch.load(PATH))\n"
      ]
    },
    {
      "cell_type": "code",
      "execution_count": 81,
      "metadata": {},
      "outputs": [],
      "source": [
        "# Obtener las predicciones de la red neuronal para las imágenes de prueba\n",
        "outputs = net(images)\n"
      ]
    },
    {
      "cell_type": "code",
      "execution_count": 82,
      "metadata": {},
      "outputs": [
        {
          "name": "stdout",
          "output_type": "stream",
          "text": [
            "Predicted:  cat   cat   dog   cat  \n"
          ]
        }
      ],
      "source": [
        "# Obtener el índice de la clase con la energía más alta\n",
        "_, predicted = torch.max(outputs, 1)\n",
        "\n",
        "# Imprimir las predicciones de la red neuronal entrenada\n",
        "print('Predicted: ', ' '.join(f'{classes[predicted[j]]:5s}'\n",
        "                              for j in range(4)))\n"
      ]
    },
    {
      "cell_type": "code",
      "execution_count": 85,
      "metadata": {},
      "outputs": [
        {
          "name": "stdout",
          "output_type": "stream",
          "text": [
            "Precisión de la red en las 5000 imágenes de prueba: 72 %\n"
          ]
        }
      ],
      "source": [
        "correct = 0\n",
        "total = 0\n",
        "# Como no estamos entrenando, no necesitamos calcular los gradientes para nuestras salidas\n",
        "with torch.no_grad():\n",
        "    for data in testloader:\n",
        "        images, labels = data\n",
        "        # Calcular las salidas pasando las imágenes a través de la red\n",
        "        outputs = net(images)\n",
        "        # La clase con la energía más alta es lo que elegimos como predicción\n",
        "        _, predicted = torch.max(outputs.data, 1)\n",
        "        total += labels.size(0)\n",
        "        correct += (predicted == labels).sum().item()\n",
        "\n",
        "print(f'Precisión de la red en las 5000 imágenes de prueba: {100 * correct // total} %')\n"
      ]
    },
    {
      "cell_type": "code",
      "execution_count": 86,
      "metadata": {},
      "outputs": [
        {
          "name": "stdout",
          "output_type": "stream",
          "text": [
            "Precisión para la clase: cat   es 72.3 %\n",
            "Precisión para la clase: dog   es 72.2 %\n"
          ]
        }
      ],
      "source": [
        "# Preparar para contar predicciones para cada clase\n",
        "correct_pred = {classname: 0 for classname in classes}\n",
        "total_pred = {classname: 0 for classname in classes}\n",
        "\n",
        "# Nuevamente, no necesitamos gradientes\n",
        "with torch.no_grad():\n",
        "    for data in testloader:\n",
        "        images, labels = data\n",
        "        outputs = net(images)\n",
        "        _, predictions = torch.max(outputs, 1)\n",
        "        # Recolectar las predicciones correctas para cada clase\n",
        "        for label, prediction in zip(labels, predictions):\n",
        "            if label == prediction:\n",
        "                correct_pred[classes[label]] += 1\n",
        "            total_pred[classes[label]] += 1\n",
        "\n",
        "# Imprimir precisión para cada clase\n",
        "for classname, correct_count in correct_pred.items():\n",
        "    accuracy = 100 * float(correct_count) / total_pred[classname]\n",
        "    print(f'Precisión para la clase: {classname:5s} es {accuracy:.1f} %')\n"
      ]
    },
    {
      "cell_type": "code",
      "execution_count": null,
      "metadata": {},
      "outputs": [],
      "source": []
    },
    {
      "cell_type": "markdown",
      "metadata": {},
      "source": []
    },
    {
      "cell_type": "markdown",
      "metadata": {},
      "source": [
        "### Desarrollo de algoritmos de ensamblado"
      ]
    },
    {
      "cell_type": "markdown",
      "metadata": {},
      "source": [
        "## **Titanic_Sobrevivientes**\n",
        "https://www.kaggle.com/code/macespinoza/classification-decision-trees-and-k-nearest/input?select=titanic_train.csv\n",
        "\n",
        "Este conjunto de datos contiene 891 datos donde hay la siguientes columnas:\n",
        "- ID del pasajero\n",
        "- Sobrevivió\n",
        "- clase p\n",
        "- Nombre\n",
        "- Sexo\n",
        "- Edad\n",
        "- SibSp\n",
        "- Tostar\n",
        "- Boleto\n",
        "- Tarifa"
      ]
    },
    {
      "cell_type": "code",
      "execution_count": 159,
      "metadata": {},
      "outputs": [
        {
          "data": {
            "text/html": [
              "<div>\n",
              "<style scoped>\n",
              "    .dataframe tbody tr th:only-of-type {\n",
              "        vertical-align: middle;\n",
              "    }\n",
              "\n",
              "    .dataframe tbody tr th {\n",
              "        vertical-align: top;\n",
              "    }\n",
              "\n",
              "    .dataframe thead th {\n",
              "        text-align: right;\n",
              "    }\n",
              "</style>\n",
              "<table border=\"1\" class=\"dataframe\">\n",
              "  <thead>\n",
              "    <tr style=\"text-align: right;\">\n",
              "      <th></th>\n",
              "      <th>PassengerId</th>\n",
              "      <th>Survived</th>\n",
              "      <th>Pclass</th>\n",
              "      <th>Name</th>\n",
              "      <th>Sex</th>\n",
              "      <th>Age</th>\n",
              "      <th>SibSp</th>\n",
              "      <th>Parch</th>\n",
              "      <th>Ticket</th>\n",
              "      <th>Fare</th>\n",
              "      <th>Cabin</th>\n",
              "      <th>Embarked</th>\n",
              "    </tr>\n",
              "  </thead>\n",
              "  <tbody>\n",
              "    <tr>\n",
              "      <th>0</th>\n",
              "      <td>1</td>\n",
              "      <td>0</td>\n",
              "      <td>3</td>\n",
              "      <td>Braund, Mr. Owen Harris</td>\n",
              "      <td>male</td>\n",
              "      <td>22.0</td>\n",
              "      <td>1</td>\n",
              "      <td>0</td>\n",
              "      <td>A/5 21171</td>\n",
              "      <td>7.2500</td>\n",
              "      <td>NaN</td>\n",
              "      <td>S</td>\n",
              "    </tr>\n",
              "    <tr>\n",
              "      <th>1</th>\n",
              "      <td>2</td>\n",
              "      <td>1</td>\n",
              "      <td>1</td>\n",
              "      <td>Cumings, Mrs. John Bradley (Florence Briggs Th...</td>\n",
              "      <td>female</td>\n",
              "      <td>38.0</td>\n",
              "      <td>1</td>\n",
              "      <td>0</td>\n",
              "      <td>PC 17599</td>\n",
              "      <td>71.2833</td>\n",
              "      <td>C85</td>\n",
              "      <td>C</td>\n",
              "    </tr>\n",
              "    <tr>\n",
              "      <th>2</th>\n",
              "      <td>3</td>\n",
              "      <td>1</td>\n",
              "      <td>3</td>\n",
              "      <td>Heikkinen, Miss. Laina</td>\n",
              "      <td>female</td>\n",
              "      <td>26.0</td>\n",
              "      <td>0</td>\n",
              "      <td>0</td>\n",
              "      <td>STON/O2. 3101282</td>\n",
              "      <td>7.9250</td>\n",
              "      <td>NaN</td>\n",
              "      <td>S</td>\n",
              "    </tr>\n",
              "    <tr>\n",
              "      <th>3</th>\n",
              "      <td>4</td>\n",
              "      <td>1</td>\n",
              "      <td>1</td>\n",
              "      <td>Futrelle, Mrs. Jacques Heath (Lily May Peel)</td>\n",
              "      <td>female</td>\n",
              "      <td>35.0</td>\n",
              "      <td>1</td>\n",
              "      <td>0</td>\n",
              "      <td>113803</td>\n",
              "      <td>53.1000</td>\n",
              "      <td>C123</td>\n",
              "      <td>S</td>\n",
              "    </tr>\n",
              "    <tr>\n",
              "      <th>4</th>\n",
              "      <td>5</td>\n",
              "      <td>0</td>\n",
              "      <td>3</td>\n",
              "      <td>Allen, Mr. William Henry</td>\n",
              "      <td>male</td>\n",
              "      <td>35.0</td>\n",
              "      <td>0</td>\n",
              "      <td>0</td>\n",
              "      <td>373450</td>\n",
              "      <td>8.0500</td>\n",
              "      <td>NaN</td>\n",
              "      <td>S</td>\n",
              "    </tr>\n",
              "  </tbody>\n",
              "</table>\n",
              "</div>"
            ],
            "text/plain": [
              "   PassengerId  Survived  Pclass  \\\n",
              "0            1         0       3   \n",
              "1            2         1       1   \n",
              "2            3         1       3   \n",
              "3            4         1       1   \n",
              "4            5         0       3   \n",
              "\n",
              "                                                Name     Sex   Age  SibSp  \\\n",
              "0                            Braund, Mr. Owen Harris    male  22.0      1   \n",
              "1  Cumings, Mrs. John Bradley (Florence Briggs Th...  female  38.0      1   \n",
              "2                             Heikkinen, Miss. Laina  female  26.0      0   \n",
              "3       Futrelle, Mrs. Jacques Heath (Lily May Peel)  female  35.0      1   \n",
              "4                           Allen, Mr. William Henry    male  35.0      0   \n",
              "\n",
              "   Parch            Ticket     Fare Cabin Embarked  \n",
              "0      0         A/5 21171   7.2500   NaN        S  \n",
              "1      0          PC 17599  71.2833   C85        C  \n",
              "2      0  STON/O2. 3101282   7.9250   NaN        S  \n",
              "3      0            113803  53.1000  C123        S  \n",
              "4      0            373450   8.0500   NaN        S  "
            ]
          },
          "execution_count": 159,
          "metadata": {},
          "output_type": "execute_result"
        }
      ],
      "source": [
        "data2=pd.read_csv('titanic_train.csv')\n",
        "data2.head()"
      ]
    },
    {
      "cell_type": "code",
      "execution_count": 161,
      "metadata": {},
      "outputs": [
        {
          "data": {
            "text/plain": [
              "891"
            ]
          },
          "execution_count": 161,
          "metadata": {},
          "output_type": "execute_result"
        }
      ],
      "source": [
        "len(data2)"
      ]
    },
    {
      "cell_type": "markdown",
      "metadata": {},
      "source": [
        "#### Predice de que clase es sabiendo si Sobrevivió y tarifa"
      ]
    },
    {
      "cell_type": "code",
      "execution_count": 172,
      "metadata": {},
      "outputs": [],
      "source": [
        "from sklearn.model_selection import train_test_split\n",
        "X = data2[['Survived','Fare']]  # Asegúrate de seleccionar las características adecuadas\n",
        "y = data2['Pclass']\n",
        "# Divide tus datos en conjuntos de entrenamiento y prueba\n",
        "X_train, X_test, y_train, y_test = train_test_split(X, y, test_size=0.2, random_state=42)"
      ]
    },
    {
      "cell_type": "markdown",
      "metadata": {},
      "source": [
        "### **Random Forest:**"
      ]
    },
    {
      "cell_type": "code",
      "execution_count": 173,
      "metadata": {},
      "outputs": [],
      "source": [
        "from sklearn.ensemble import RandomForestClassifier\n",
        "\n",
        "# Crear el clasificador de Random Forest\n",
        "rf_classifier = RandomForestClassifier(n_estimators=100, random_state=42)\n",
        "\n",
        "# Entrenar el modelo\n",
        "rf_classifier.fit(X_train, y_train)\n",
        "\n",
        "# Predicción en el conjunto de prueba\n",
        "predictions_rf = rf_classifier.predict(X_test)"
      ]
    },
    {
      "cell_type": "code",
      "execution_count": 174,
      "metadata": {},
      "outputs": [
        {
          "data": {
            "text/plain": [
              "709    3\n",
              "439    2\n",
              "840    3\n",
              "720    2\n",
              "39     3\n",
              "290    1\n",
              "300    3\n",
              "333    3\n",
              "208    3\n",
              "136    1\n",
              "Name: Pclass, dtype: int64"
            ]
          },
          "execution_count": 174,
          "metadata": {},
          "output_type": "execute_result"
        }
      ],
      "source": [
        "y_test.head(10)"
      ]
    },
    {
      "cell_type": "code",
      "execution_count": 175,
      "metadata": {},
      "outputs": [
        {
          "data": {
            "text/plain": [
              "array([3, 2, 3, 2, 3, 1, 3, 3, 3, 1], dtype=int64)"
            ]
          },
          "execution_count": 175,
          "metadata": {},
          "output_type": "execute_result"
        }
      ],
      "source": [
        "predictions_rf[:10]"
      ]
    },
    {
      "cell_type": "code",
      "execution_count": 176,
      "metadata": {},
      "outputs": [
        {
          "data": {
            "text/plain": [
              "0.9273743016759777"
            ]
          },
          "execution_count": 176,
          "metadata": {},
          "output_type": "execute_result"
        }
      ],
      "source": [
        "from sklearn.metrics import accuracy_score\n",
        "accuracy = accuracy_score(y_test, predictions_rf)\n",
        "accuracy"
      ]
    },
    {
      "cell_type": "code",
      "execution_count": 177,
      "metadata": {},
      "outputs": [
        {
          "name": "stdout",
          "output_type": "stream",
          "text": [
            "0.9064928801284028\n"
          ]
        }
      ],
      "source": [
        "from sklearn.metrics import precision_score\n",
        "#Calcula la precisión para cada clase individualmente y luego toma la media.\n",
        "precision = precision_score(y_test, predictions_rf, average='macro')\n",
        "print(precision)\n"
      ]
    },
    {
      "cell_type": "markdown",
      "metadata": {},
      "source": [
        "### **Gradient Boosting:**"
      ]
    },
    {
      "cell_type": "code",
      "execution_count": 178,
      "metadata": {},
      "outputs": [],
      "source": [
        "from sklearn.ensemble import GradientBoostingClassifier\n",
        "\n",
        "# Crear el clasificador de Gradient Boosting\n",
        "gb_classifier = GradientBoostingClassifier(n_estimators=100, learning_rate=0.1, random_state=42)\n",
        "\n",
        "# Entrenar el modelo\n",
        "gb_classifier.fit(X_train, y_train)\n",
        "\n",
        "# Predicción en el conjunto de prueba\n",
        "predictions_gb = gb_classifier.predict(X_test)\n"
      ]
    },
    {
      "cell_type": "code",
      "execution_count": null,
      "metadata": {},
      "outputs": [
        {
          "data": {
            "text/plain": [
              "709      male\n",
              "439      male\n",
              "840      male\n",
              "720    female\n",
              "39     female\n",
              "290    female\n",
              "300    female\n",
              "333      male\n",
              "208    female\n",
              "136    female\n",
              "Name: Sex, dtype: object"
            ]
          },
          "execution_count": 104,
          "metadata": {},
          "output_type": "execute_result"
        }
      ],
      "source": [
        "y_test.head(10)"
      ]
    },
    {
      "cell_type": "code",
      "execution_count": null,
      "metadata": {},
      "outputs": [
        {
          "data": {
            "text/plain": [
              "array(['female', 'male', 'male', 'female', 'female', 'female', 'female',\n",
              "       'male', 'female', 'female'], dtype=object)"
            ]
          },
          "execution_count": 105,
          "metadata": {},
          "output_type": "execute_result"
        }
      ],
      "source": [
        "predictions_gb[:10]"
      ]
    },
    {
      "cell_type": "code",
      "execution_count": null,
      "metadata": {},
      "outputs": [
        {
          "data": {
            "text/plain": [
              "0.7821229050279329"
            ]
          },
          "execution_count": 125,
          "metadata": {},
          "output_type": "execute_result"
        }
      ],
      "source": [
        "from sklearn.metrics import accuracy_score\n",
        "accuracy = accuracy_score(y_test, predictions_gb)\n",
        "accuracy"
      ]
    },
    {
      "cell_type": "code",
      "execution_count": 181,
      "metadata": {},
      "outputs": [
        {
          "name": "stdout",
          "output_type": "stream",
          "text": [
            "0.9386352479135985\n"
          ]
        }
      ],
      "source": [
        "from sklearn.metrics import precision_score\n",
        "#Calcula la precisión para cada clase individualmente y luego toma la media.\n",
        "precision = precision_score(y_test, predictions_gb, average='macro')\n",
        "print(precision)"
      ]
    },
    {
      "cell_type": "markdown",
      "metadata": {},
      "source": [
        "### **XGBoost:**"
      ]
    },
    {
      "cell_type": "code",
      "execution_count": 197,
      "metadata": {},
      "outputs": [],
      "source": [
        "import xgboost as xgb\n",
        "from sklearn.preprocessing import LabelEncoder\n",
        "\n",
        "# Codificar las clases ('female =0' y 'male=1')\n",
        "label_encoder = LabelEncoder()\n",
        "y_train_encoded = label_encoder.fit_transform(y_train)\n",
        "\n",
        "# Crear el clasificador de XGBoost\n",
        "xgb_classifier = xgb.XGBClassifier(objective=\"binary:logistic\", random_state=42)\n",
        "\n",
        "# Entrenar el modelo\n",
        "xgb_classifier.fit(X_train, y_train_encoded)\n",
        "\n",
        "# Predicción en el conjunto de prueba\n",
        "predictions_xgb = xgb_classifier.predict(X_test)\n"
      ]
    },
    {
      "cell_type": "code",
      "execution_count": 198,
      "metadata": {},
      "outputs": [
        {
          "data": {
            "text/plain": [
              "709    3\n",
              "439    2\n",
              "840    3\n",
              "720    2\n",
              "39     3\n",
              "290    1\n",
              "300    3\n",
              "333    3\n",
              "208    3\n",
              "136    1\n",
              "Name: Pclass, dtype: int64"
            ]
          },
          "execution_count": 198,
          "metadata": {},
          "output_type": "execute_result"
        }
      ],
      "source": [
        "y_test.head(10)"
      ]
    },
    {
      "cell_type": "code",
      "execution_count": 199,
      "metadata": {},
      "outputs": [
        {
          "data": {
            "text/plain": [
              "array([2, 1, 2, 1, 2, 0, 2, 2, 2, 1], dtype=int64)"
            ]
          },
          "execution_count": 199,
          "metadata": {},
          "output_type": "execute_result"
        }
      ],
      "source": [
        "predictions_xgb[:10]"
      ]
    },
    {
      "cell_type": "code",
      "execution_count": 200,
      "metadata": {},
      "outputs": [
        {
          "data": {
            "text/plain": [
              "0.0335195530726257"
            ]
          },
          "execution_count": 200,
          "metadata": {},
          "output_type": "execute_result"
        }
      ],
      "source": [
        "from sklearn.metrics import accuracy_score\n",
        "accuracy = accuracy_score(y_test, predictions_xgb)\n",
        "accuracy"
      ]
    },
    {
      "cell_type": "code",
      "execution_count": 201,
      "metadata": {},
      "outputs": [
        {
          "name": "stdout",
          "output_type": "stream",
          "text": [
            "0.03729954180985109\n"
          ]
        },
        {
          "name": "stderr",
          "output_type": "stream",
          "text": [
            "c:\\Users\\Asus\\AppData\\Local\\Programs\\Python\\Python39\\lib\\site-packages\\sklearn\\metrics\\_classification.py:1509: UndefinedMetricWarning: Precision is ill-defined and being set to 0.0 in labels with no predicted samples. Use `zero_division` parameter to control this behavior.\n",
            "  _warn_prf(average, modifier, f\"{metric.capitalize()} is\", len(result))\n"
          ]
        }
      ],
      "source": [
        "from sklearn.metrics import precision_score\n",
        "#Calcula la precisión para cada clase individualmente y luego toma la media.\n",
        "precision = precision_score(y_test, predictions_xgb, average='macro')\n",
        "print(precision)\n"
      ]
    },
    {
      "cell_type": "markdown",
      "metadata": {},
      "source": [
        "### **Combinar múltiples modelos**\n",
        "\n",
        "https://inteligencia-artificial.dev/ensemble-learning-python/"
      ]
    },
    {
      "cell_type": "code",
      "execution_count": 192,
      "metadata": {},
      "outputs": [],
      "source": [
        "from sklearn.ensemble import VotingClassifier\n",
        "\n",
        "# Crear un clasificador de votación suave\n",
        "voting_classifier = VotingClassifier(estimators=[\n",
        "    ('rf', rf_classifier), ('gb', gb_classifier), ('xgb', xgb_classifier)], voting='soft')\n",
        "\n",
        "# Entrenar el modelo de votación\n",
        "voting_classifier.fit(X_train, y_train)\n",
        "\n",
        "# Predicción en el conjunto de prueba\n",
        "predictions_voting = voting_classifier.predict(X_test)\n"
      ]
    },
    {
      "cell_type": "code",
      "execution_count": 193,
      "metadata": {},
      "outputs": [
        {
          "data": {
            "text/plain": [
              "709    3\n",
              "439    2\n",
              "840    3\n",
              "720    2\n",
              "39     3\n",
              "290    1\n",
              "300    3\n",
              "333    3\n",
              "208    3\n",
              "136    1\n",
              "137    1\n",
              "696    3\n",
              "485    3\n",
              "244    3\n",
              "Name: Pclass, dtype: int64"
            ]
          },
          "execution_count": 193,
          "metadata": {},
          "output_type": "execute_result"
        }
      ],
      "source": [
        "y_test.head(14)"
      ]
    },
    {
      "cell_type": "code",
      "execution_count": 194,
      "metadata": {},
      "outputs": [
        {
          "data": {
            "text/plain": [
              "array([3, 2, 3, 2, 3, 1, 3, 3, 3, 1, 1, 3, 3, 3], dtype=int64)"
            ]
          },
          "execution_count": 194,
          "metadata": {},
          "output_type": "execute_result"
        }
      ],
      "source": [
        "predictions_voting[:14]"
      ]
    },
    {
      "cell_type": "code",
      "execution_count": 195,
      "metadata": {},
      "outputs": [
        {
          "data": {
            "text/plain": [
              "0.9497206703910615"
            ]
          },
          "execution_count": 195,
          "metadata": {},
          "output_type": "execute_result"
        }
      ],
      "source": [
        "from sklearn.metrics import accuracy_score\n",
        "accuracy = accuracy_score(y_test, predictions_voting)\n",
        "accuracy"
      ]
    },
    {
      "cell_type": "code",
      "execution_count": 196,
      "metadata": {},
      "outputs": [
        {
          "name": "stdout",
          "output_type": "stream",
          "text": [
            "0.9330060629452727\n"
          ]
        }
      ],
      "source": [
        "from sklearn.metrics import precision_score\n",
        "#Calcula la precisión para cada clase individualmente y luego toma la media.\n",
        "precision = precision_score(y_test, predictions_voting, average='macro')\n",
        "print(precision)"
      ]
    }
  ],
  "metadata": {
    "colab": {
      "provenance": []
    },
    "kernelspec": {
      "display_name": "Python 3",
      "name": "python3"
    },
    "language_info": {
      "codemirror_mode": {
        "name": "ipython",
        "version": 3
      },
      "file_extension": ".py",
      "mimetype": "text/x-python",
      "name": "python",
      "nbconvert_exporter": "python",
      "pygments_lexer": "ipython3",
      "version": "3.9.6"
    }
  },
  "nbformat": 4,
  "nbformat_minor": 0
}
